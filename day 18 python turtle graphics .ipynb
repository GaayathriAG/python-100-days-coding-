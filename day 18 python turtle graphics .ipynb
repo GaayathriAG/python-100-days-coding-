{
 "cells": [
  {
   "cell_type": "code",
   "execution_count": 3,
   "id": "ad172806-7531-4d8d-80a0-bfd7fb9e7386",
   "metadata": {},
   "outputs": [
    {
     "ename": "Terminator",
     "evalue": "",
     "output_type": "error",
     "traceback": [
      "\u001b[1;31m---------------------------------------------------------------------------\u001b[0m",
      "\u001b[1;31mTerminator\u001b[0m                                Traceback (most recent call last)",
      "Cell \u001b[1;32mIn[3], line 40\u001b[0m\n\u001b[0;32m     38\u001b[0m \u001b[38;5;28;01mfor\u001b[39;00m _ \u001b[38;5;129;01min\u001b[39;00m \u001b[38;5;28mrange\u001b[39m(\u001b[38;5;241m10\u001b[39m): \u001b[38;5;66;03m# 10 dots per 10 left to right \u001b[39;00m\n\u001b[0;32m     39\u001b[0m   t\u001b[38;5;241m.\u001b[39mdot(\u001b[38;5;241m20\u001b[39m,(random\u001b[38;5;241m.\u001b[39mchoice(color_list))) \u001b[38;5;66;03m# draws a dot with random color \u001b[39;00m\n\u001b[1;32m---> 40\u001b[0m   t\u001b[38;5;241m.\u001b[39msetheading(\u001b[38;5;241m180\u001b[39m) \u001b[38;5;66;03m#turns left \u001b[39;00m\n\u001b[0;32m     41\u001b[0m   t\u001b[38;5;241m.\u001b[39mforward(\u001b[38;5;241m50\u001b[39m) \u001b[38;5;66;03m# moves left by 50 pixels \u001b[39;00m\n\u001b[0;32m     42\u001b[0m left_up() \u001b[38;5;66;03m# moves up the next row and faces right \u001b[39;00m\n",
      "File \u001b[1;32m<string>:5\u001b[0m, in \u001b[0;36msetheading\u001b[1;34m(to_angle)\u001b[0m\n",
      "\u001b[1;31mTerminator\u001b[0m: "
     ]
    }
   ],
   "source": [
    "# Now you can run your turtle code normally in Colab\n",
    "import turtle as t\n",
    "import random \n",
    "# create the turtle object \n",
    "t.Turtle() # just created but not stored in a variable so insignificant \n",
    "color_list = [(236, 248, 243), (36, 95, 183), (236, 165, 79), (244, 223, 87), (215, 69, 105), (98, 197, 234),\n",
    "              (250, 51, 22), (203, 70, 21), (240, 106, 143), (185, 47, 90), (143, 233, 216), (252, 136, 166),\n",
    "              (165, 175, 233), (66, 45, 13), (72, 205, 170), (83, 187, 100), (20, 156, 51), (24, 36, 86), (252, 220, 0),\n",
    "              (164, 28, 8), (105, 39, 44), (250, 152, 2), (22, 151, 229), (108, 213, 249), (254, 12, 3), (38, 48, 98),\n",
    "              (98, 96, 186)] # This is a list of RGB color tuples that will be used for drawing colored dots.\n",
    "\n",
    "\n",
    "#configure the turtle \n",
    "random_color = (random.choice(color_list)) # picks random color fro mthe list\n",
    "t.colormode(255) # enabling RGB mode \n",
    "t.penup() # lifts the pen so it doesn't draw while moving \n",
    "t.speed(\"fastest\") # moves the turtle as fast as possible \n",
    "#t.hideturtle() # to hide turtle for a cleaner output \n",
    "\n",
    "\n",
    "# fucntions to move the turtle\n",
    "# these fucntions move up a row while alternating directions, so dots drawn in a ziogzag pattern\n",
    "\n",
    "\n",
    "def left_up():\n",
    "  t.setheading(90)\n",
    "  t.forward(50)\n",
    "  t.setheading(0) #moves the turtle up by 50 units and then faces right\n",
    "\n",
    "def right_up():\n",
    "  t.setheading(90)\n",
    "  t.forward(50)\n",
    "  t.setheading(180) # moves the turtle up by 50 units and then faces right \n",
    " \n",
    "\n",
    "#draw the dotted pattern\n",
    "for _ in range(5): # in 5 rows \n",
    "  for _ in range(10): # 10 dots per 10 left to right \n",
    "    t.dot(20,(random.choice(color_list))) # draws a dot with random color \n",
    "    t.setheading(180) #turns left \n",
    "    t.forward(50) # moves left by 50 pixels \n",
    "  left_up() # moves up the next row and faces right \n",
    "\n",
    "  for _ in range(10): #10 dots per row right to left \n",
    "    t.forward(50) # moves right by 50 pixels \n",
    "    t.dot(20,(random.choice(color_list))) # draws a dot with random color \n",
    "  right_up() # moves up and faces left \n",
    "\n",
    "screen = t.Screen() # create a screen for turtle graphics \n",
    "screen.exitonclick() #ensures that the window is kept open until the user clicks"
   ]
  },
  {
   "cell_type": "code",
   "execution_count": 6,
   "id": "fa8046dc-5377-4e30-8d04-22f014d08669",
   "metadata": {},
   "outputs": [],
   "source": [
    "# to draw a square \n",
    "\n",
    "t.forward(50)\n",
    "t.left(90)\n",
    "t.forward(50)\n",
    "t.left(90)\n",
    "t.forward(50)\n",
    "t.left(90)\n",
    "t.forward(50)\n",
    "\n",
    "\n",
    "screen = t.Screen() # create a screen for turtle graphics \n",
    "screen.exitonclick() #ensures that the window is kept open until the user clicks"
   ]
  },
  {
   "cell_type": "code",
   "execution_count": 10,
   "id": "5c70936a-f872-4ea1-b6e8-38e5abe9fe85",
   "metadata": {},
   "outputs": [],
   "source": [
    "# draw dashed line \n",
    "for _ in range(15):\n",
    "    t.forward(10)\n",
    "    t.penup()\n",
    "    t.forward(10)\n",
    "    t.pendown()\n",
    "screen = t.Screen() # create a screen for turtle graphics \n",
    "screen.exitonclick() #ensures that the window is kept open until the user clicks\n",
    "    "
   ]
  },
  {
   "cell_type": "code",
   "execution_count": 14,
   "id": "0c1e9723-e982-4805-8cda-0e7beee1a590",
   "metadata": {},
   "outputs": [
    {
     "ename": "Terminator",
     "evalue": "",
     "output_type": "error",
     "traceback": [
      "\u001b[1;31m---------------------------------------------------------------------------\u001b[0m",
      "\u001b[1;31mTerminator\u001b[0m                                Traceback (most recent call last)",
      "Cell \u001b[1;32mIn[14], line 14\u001b[0m\n\u001b[0;32m     12\u001b[0m \u001b[38;5;28;01mfor\u001b[39;00m shape_side \u001b[38;5;129;01min\u001b[39;00m \u001b[38;5;28mrange\u001b[39m(\u001b[38;5;241m3\u001b[39m,\u001b[38;5;241m11\u001b[39m): \u001b[38;5;66;03m# to iterate to no.of sides \u001b[39;00m\n\u001b[0;32m     13\u001b[0m     t\u001b[38;5;241m.\u001b[39mcolor(random\u001b[38;5;241m.\u001b[39mchoice(colors))\n\u001b[1;32m---> 14\u001b[0m     draw_shape(shape_side)\n\u001b[0;32m     16\u001b[0m screen \u001b[38;5;241m=\u001b[39m t\u001b[38;5;241m.\u001b[39mScreen() \u001b[38;5;66;03m# create a screen for turtle graphics \u001b[39;00m\n\u001b[0;32m     17\u001b[0m screen\u001b[38;5;241m.\u001b[39mexitonclick()\n",
      "Cell \u001b[1;32mIn[14], line 8\u001b[0m, in \u001b[0;36mdraw_shape\u001b[1;34m(num_sides)\u001b[0m\n\u001b[0;32m      6\u001b[0m angle \u001b[38;5;241m=\u001b[39m \u001b[38;5;241m360\u001b[39m\u001b[38;5;241m/\u001b[39mnum_sides\n\u001b[0;32m      7\u001b[0m \u001b[38;5;28;01mfor\u001b[39;00m _ \u001b[38;5;129;01min\u001b[39;00m \u001b[38;5;28mrange\u001b[39m(num_sides):\n\u001b[1;32m----> 8\u001b[0m     t\u001b[38;5;241m.\u001b[39mforward(\u001b[38;5;241m100\u001b[39m)\n\u001b[0;32m      9\u001b[0m     t\u001b[38;5;241m.\u001b[39mright(angle)\n",
      "File \u001b[1;32m<string>:5\u001b[0m, in \u001b[0;36mforward\u001b[1;34m(distance)\u001b[0m\n",
      "\u001b[1;31mTerminator\u001b[0m: "
     ]
    }
   ],
   "source": [
    "#draw a triangle,square and so on by increasing the no.of sides \n",
    "# let's define a fucntion \n",
    "\n",
    "colors = [\"CornflowerBlue\",\"DarkOrchid\",\"IndianRed\",\"DeepSkyBlue\",\"LightSeaGreen\",\"wheat\",\"SlateGray\",\"SeaGreen\"]\n",
    "def draw_shape(num_sides):\n",
    "    angle = 360/num_sides\n",
    "    for _ in range(num_sides):\n",
    "        t.forward(100)\n",
    "        t.right(angle)\n",
    "        \n",
    "\n",
    "for shape_side in range(3,11): # to iterate to no.of sides \n",
    "    t.color(random.choice(colors))\n",
    "    draw_shape(shape_side)\n",
    "\n",
    "screen = t.Screen() # create a screen for turtle graphics \n",
    "screen.exitonclick() #ensures that the window is kept open until the user clicks"
   ]
  },
  {
   "cell_type": "code",
   "execution_count": 16,
   "id": "c58cee67-dd24-4f12-955b-0f6dbb675c63",
   "metadata": {},
   "outputs": [
    {
     "ename": "Terminator",
     "evalue": "",
     "output_type": "error",
     "traceback": [
      "\u001b[1;31m---------------------------------------------------------------------------\u001b[0m",
      "\u001b[1;31mTerminator\u001b[0m                                Traceback (most recent call last)",
      "Cell \u001b[1;32mIn[16], line 9\u001b[0m\n\u001b[0;32m      6\u001b[0m \u001b[38;5;28;01mfor\u001b[39;00m _ \u001b[38;5;129;01min\u001b[39;00m \u001b[38;5;28mrange\u001b[39m(\u001b[38;5;241m200\u001b[39m):\n\u001b[0;32m      8\u001b[0m     t\u001b[38;5;241m.\u001b[39mforward(\u001b[38;5;241m30\u001b[39m)\n\u001b[1;32m----> 9\u001b[0m     t\u001b[38;5;241m.\u001b[39msetheading(random\u001b[38;5;241m.\u001b[39mchoice(direction))\n\u001b[0;32m     10\u001b[0m     t\u001b[38;5;241m.\u001b[39mcolor(random\u001b[38;5;241m.\u001b[39mchoice(colors))\n\u001b[0;32m     13\u001b[0m screen \u001b[38;5;241m=\u001b[39m t\u001b[38;5;241m.\u001b[39mScreen() \u001b[38;5;66;03m# create a screen for turtle graphics \u001b[39;00m\n",
      "File \u001b[1;32m<string>:5\u001b[0m, in \u001b[0;36msetheading\u001b[1;34m(to_angle)\u001b[0m\n",
      "\u001b[1;31mTerminator\u001b[0m: "
     ]
    }
   ],
   "source": [
    "# a random walk \n",
    "colors = [\"CornflowerBlue\",\"DarkOrchid\",\"IndianRed\",\"DeepSkyBlue\",\"LightSeaGreen\",\"wheat\",\"SlateGray\",\"SeaGreen\"]\n",
    "direction = [0,90,180,270] # 0 is east,90 is north , 180 is south and 270 is west\n",
    "t.pensize(5)\n",
    "t.speed(\"fastest\")\n",
    "for _ in range(200):\n",
    "    \n",
    "    t.forward(30)\n",
    "    t.setheading(random.choice(direction))\n",
    "    t.color(random.choice(colors))\n",
    "   \n",
    "\n",
    "screen = t.Screen() # create a screen for turtle graphics \n",
    "screen.exitonclick() #ensures that the window is kept open until the user clicks"
   ]
  },
  {
   "cell_type": "code",
   "execution_count": 5,
   "id": "3385b1c8-396e-40a4-8451-4a4f05d0ef8c",
   "metadata": {},
   "outputs": [],
   "source": [
    "t.colormode(255)\n",
    "def random_color():\n",
    "    r = random.randint(0,255)\n",
    "    g = random.randint(0,255)\n",
    "    b = random.randint(0,255)\n",
    "    color = (r,g,b)\n",
    "    return color \n",
    "\n",
    "t.speed(\"fastest\")\n",
    "\n",
    "def draw_spirograph(size_of_gap):\n",
    "    \n",
    "    for _ in range(int(360/size_of_gap)):\n",
    "        \n",
    "        t.color(random_color())\n",
    "        t.circle(100)\n",
    "        t.setheading(t.heading()+size_of_gap)\n",
    "\n",
    "draw_spirograph(5)\n",
    "screen = t.Screen()\n",
    "screen.exitonclick()\n"
   ]
  },
  {
   "cell_type": "code",
   "execution_count": null,
   "id": "0c9094d2-25e7-42d9-bd95-4d1b9ac681ef",
   "metadata": {},
   "outputs": [],
   "source": []
  }
 ],
 "metadata": {
  "kernelspec": {
   "display_name": "Python 3 (ipykernel)",
   "language": "python",
   "name": "python3"
  },
  "language_info": {
   "codemirror_mode": {
    "name": "ipython",
    "version": 3
   },
   "file_extension": ".py",
   "mimetype": "text/x-python",
   "name": "python",
   "nbconvert_exporter": "python",
   "pygments_lexer": "ipython3",
   "version": "3.12.4"
  }
 },
 "nbformat": 4,
 "nbformat_minor": 5
}
