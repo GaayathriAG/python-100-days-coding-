{
  "cells": [
    {
      "cell_type": "code",
      "execution_count": null,
      "metadata": {
        "colab": {
          "base_uri": "https://localhost:8080/"
        },
        "id": "--2cyx4G4Dnr",
        "outputId": "128e5f27-794a-478f-a909-d90e86c145b8"
      },
      "outputs": [
        {
          "name": "stdout",
          "output_type": "stream",
          "text": [
            "Hello World! This is Gaayathri\n"
          ]
        }
      ],
      "source": [
        "print(\"Hello World!\"+ \" \"+ \"This is Gaayathri\")"
      ]
    },
    {
      "cell_type": "code",
      "execution_count": null,
      "metadata": {
        "colab": {
          "base_uri": "https://localhost:8080/"
        },
        "id": "u37PfAhO6yea",
        "outputId": "cfecc850-a131-40ad-b565-873086387b20"
      },
      "outputs": [
        {
          "name": "stdout",
          "output_type": "stream",
          "text": [
            "Hello World!\n",
            "Hello\n",
            "Gaayathri\n"
          ]
        }
      ],
      "source": [
        "print(\"Hello World!\\nHello\\nGaayathri\")"
      ]
    },
    {
      "cell_type": "code",
      "execution_count": null,
      "metadata": {
        "colab": {
          "base_uri": "https://localhost:8080/"
        },
        "id": "q-8E4IQn9eGm",
        "outputId": "fcc829e9-5995-4aa1-bf5d-698e042be2a5"
      },
      "outputs": [
        {
          "name": "stdout",
          "output_type": "stream",
          "text": [
            "Gaayathri AG\n"
          ]
        }
      ],
      "source": [
        "print(\"Gaayathri\" + \" \" + \"AG\")"
      ]
    },
    {
      "cell_type": "code",
      "execution_count": null,
      "metadata": {
        "colab": {
          "base_uri": "https://localhost:8080/"
        },
        "id": "kMP7Drb89trL",
        "outputId": "0c1b4fb1-e4fa-4a34-a8cb-5195f5609751"
      },
      "outputs": [
        {
          "name": "stdout",
          "output_type": "stream",
          "text": [
            "547454782\n"
          ]
        }
      ],
      "source": [
        "print(547_454_782)"
      ]
    },
    {
      "cell_type": "code",
      "execution_count": null,
      "metadata": {
        "colab": {
          "base_uri": "https://localhost:8080/"
        },
        "id": "L-0JYr1dNdaM",
        "outputId": "1ddf2712-af1f-4957-d2a5-63b2d15b3048"
      },
      "outputs": [
        {
          "data": {
            "text/plain": [
              "3"
            ]
          },
          "execution_count": 3,
          "metadata": {},
          "output_type": "execute_result"
        }
      ],
      "source": [
        "len(\"555\")"
      ]
    },
    {
      "cell_type": "code",
      "execution_count": null,
      "metadata": {
        "colab": {
          "base_uri": "https://localhost:8080/"
        },
        "id": "ZdOWWbbfP_qk",
        "outputId": "0b46061a-87cf-45bd-c8df-09c6244eb525"
      },
      "outputs": [
        {
          "data": {
            "text/plain": [
              "str"
            ]
          },
          "execution_count": 4,
          "metadata": {},
          "output_type": "execute_result"
        }
      ],
      "source": [
        "type(\"Hello\")"
      ]
    },
    {
      "cell_type": "code",
      "execution_count": null,
      "metadata": {
        "colab": {
          "base_uri": "https://localhost:8080/"
        },
        "id": "seIYrVT5QnlB",
        "outputId": "42c3fd99-23c1-4ee0-c13d-b8da5485c3c5"
      },
      "outputs": [
        {
          "data": {
            "text/plain": [
              "float"
            ]
          },
          "execution_count": 5,
          "metadata": {},
          "output_type": "execute_result"
        }
      ],
      "source": [
        "type(45.67)"
      ]
    },
    {
      "cell_type": "code",
      "execution_count": null,
      "metadata": {
        "colab": {
          "base_uri": "https://localhost:8080/"
        },
        "id": "HlgDGXI2Qp3T",
        "outputId": "04c66ae1-fce2-423b-9861-741372962c7d"
      },
      "outputs": [
        {
          "data": {
            "text/plain": [
              "bool"
            ]
          },
          "execution_count": 6,
          "metadata": {},
          "output_type": "execute_result"
        }
      ],
      "source": [
        "type(True)"
      ]
    },
    {
      "cell_type": "code",
      "execution_count": null,
      "metadata": {
        "colab": {
          "base_uri": "https://localhost:8080/"
        },
        "id": "_NhgxEFOQt4z",
        "outputId": "6ce37782-cd2c-4955-f353-fe33810c1c11"
      },
      "outputs": [
        {
          "name": "stdout",
          "output_type": "stream",
          "text": [
            "1\n"
          ]
        }
      ],
      "source": [
        "print(5//3)"
      ]
    },
    {
      "cell_type": "code",
      "execution_count": null,
      "metadata": {
        "colab": {
          "base_uri": "https://localhost:8080/"
        },
        "id": "IcYIehr1YyNu",
        "outputId": "3f89ca2c-a917-4c8e-d149-f52391d87b48"
      },
      "outputs": [
        {
          "name": "stdout",
          "output_type": "stream",
          "text": [
            "1\n",
            "1\n"
          ]
        }
      ],
      "source": [
        "print(1475687%2)"
      ]
    },
    {
      "cell_type": "code",
      "execution_count": null,
      "metadata": {
        "colab": {
          "base_uri": "https://localhost:8080/"
        },
        "id": "TkmOugvEY5iT",
        "outputId": "291f52ae-f881-43dd-9be6-b4a4851f44dd"
      },
      "outputs": [
        {
          "name": "stdout",
          "output_type": "stream",
          "text": [
            "30.85399449035813\n",
            "31\n",
            "30.85\n"
          ]
        }
      ],
      "source": [
        "bmi = 84/(1.65)**2\n",
        "print(bmi)\n",
        "print(round(bmi))\n",
        "print(round(bmi , 2))\n"
      ]
    },
    {
      "cell_type": "markdown",
      "metadata": {
        "id": "T_h8RiA4uVAa"
      },
      "source": [
        "Total bill and tip"
      ]
    },
    {
      "cell_type": "code",
      "execution_count": null,
      "metadata": {
        "colab": {
          "base_uri": "https://localhost:8080/"
        },
        "id": "MjriN2gsdPmp",
        "outputId": "52c108c3-34b7-4447-8f1d-77fba0b37e0e"
      },
      "outputs": [
        {
          "name": "stdout",
          "output_type": "stream",
          "text": [
            "Welcome to the tip calculator\n",
            "What was the total bill? : 2245.68\n",
            "How much tip you want to give? 10 or 12 or 15 12\n",
            "12\n",
            "2515.16\n",
            "How many people are going to split the bill?8\n",
            "314.395\n"
          ]
        }
      ],
      "source": [
        "print(\"Welcome to the tip calculator\")\n",
        "bill_amt = float(input(\"What was the total bill? : \"))\n",
        "#print(bill_amt)\n",
        "tip_percent = int(input(\"How much tip you want to give? 10 or 12 or 15 \"))\n",
        "print(tip_percent)\n",
        "if tip_percent == 10:\n",
        "  bill_tip = bill_amt * 0.10\n",
        "elif tip_percent  == 12:\n",
        "  bill_tip = bill_amt * 0.12\n",
        "else:\n",
        "  bill_tip = (bill_amt *0.15 )\n",
        "print(round(bill_tip +bill_amt,2))\n",
        "people = int(input(\"How many people are going to split the bill?\"))\n",
        "amount_by_each = round(bill_tip + bill_amt, 2)/people\n",
        "print(amount_by_each)"
      ]
    },
    {
      "cell_type": "markdown",
      "metadata": {
        "id": "rM1N55HmuSQx"
      },
      "source": [
        "Rollercoaster ride"
      ]
    },
    {
      "cell_type": "code",
      "execution_count": null,
      "metadata": {
        "colab": {
          "base_uri": "https://localhost:8080/"
        },
        "id": "mcxgWzzFd-d1",
        "outputId": "fbb5bc06-1629-4296-ef74-2aa0f6b3ad94"
      },
      "outputs": [
        {
          "name": "stdout",
          "output_type": "stream",
          "text": [
            "Welcome to the rollercoaster\n",
            "Enter your height in cm: 155\n",
            "You can ride the rollercoaster\n",
            "Enter your age: 52\n",
            "Everything is going to be fine. The ride is on us\n",
            "Do you want photo type y for yes n for non\n"
          ]
        }
      ],
      "source": [
        "print(\"Welcome to the rollercoaster\")\n",
        "height = int(input(\"Enter your height in cm: \"))\n",
        "if height >= 120:\n",
        "  print(\"You can ride the rollercoaster\")\n",
        "  age  = int(input(\"Enter your age: \"))\n",
        "  if age <=12:\n",
        "    bill = 5\n",
        "    print(\"child tickeets are $5.\")\n",
        "  elif age <=18:\n",
        "    bill = 7\n",
        "    print(\"Youth tickets are $7.\")\n",
        "  elif age >= 45 and age <= 55:\n",
        "    print(\"Everything is going to be fine. The ride is on us\")\n",
        "  else:\n",
        "    bill = 12\n",
        "    print(\"Adult tickets are $12.\")\n",
        "\n",
        "  wants_photo = input(\"Do you want photo type y for yes n for no\")\n",
        "  if wants_photo == \"y\":\n",
        "    bill = bill + 3\n",
        "\n",
        "    print(f\"Your final bill is {bill}\")\n",
        "else:\n",
        "  print(\"You have to grow taller to ride the rollercoaster\")"
      ]
    },
    {
      "cell_type": "markdown",
      "metadata": {
        "id": "D6RVw6LQuQOR"
      },
      "source": [
        "Pizza hut"
      ]
    },
    {
      "cell_type": "code",
      "execution_count": null,
      "metadata": {
        "colab": {
          "base_uri": "https://localhost:8080/"
        },
        "id": "7DtQubZdfxK9",
        "outputId": "8208993e-da27-46e7-86d8-39dd6506b9e1"
      },
      "outputs": [
        {
          "name": "stdout",
          "output_type": "stream",
          "text": [
            "Welcome to Pizza hut\n",
            "What size of pizza do you want? S or M or LL\n",
            "Do you want peperoni on your pizza? Y or NY\n",
            "Do you  want extra cheese? Y or Nn\n",
            "Your final bill is 28\n"
          ]
        }
      ],
      "source": [
        "print(\"Welcome to Pizza hut\")\n",
        "size = input(\"What size of pizza do you want? S or M or L\")\n",
        "pepperoni = input(\"Do you want peperoni on your pizza? Y or N\")\n",
        "extracheese = input(\"Do you  want extra cheese? Y or N\")\n",
        "bill = 0\n",
        "if size == \"S\":\n",
        "  bill += 15\n",
        "elif size == \"M\":\n",
        "  bill += 20\n",
        "elif size == \"L\":\n",
        "  bill += 25\n",
        "else:\n",
        "  print(\"Enterd invalid input\")\n",
        "\n",
        "if pepperoni == \"Y\":\n",
        "  if size == \"S\":\n",
        "    bill += 2\n",
        "  else:\n",
        "    bill += 3\n",
        "\n",
        "if extracheese == \"Y\":\n",
        "  bill += 1\n",
        "\n",
        "print(f\"Your final bill is {bill}\")\n"
      ]
    },
    {
      "cell_type": "code",
      "execution_count": null,
      "metadata": {
        "colab": {
          "base_uri": "https://localhost:8080/"
        },
        "id": "-ylO9in9iPR9",
        "outputId": "af338c18-9619-415d-82c7-f03f78434810"
      },
      "outputs": [
        {
          "data": {
            "text/plain": [
              "False"
            ]
          },
          "execution_count": 10,
          "metadata": {},
          "output_type": "execute_result"
        }
      ],
      "source": [
        "a = 12\n",
        "a > 15"
      ]
    },
    {
      "cell_type": "markdown",
      "metadata": {
        "id": "RoNJW8lBuNn6"
      },
      "source": [
        "Tressure island game"
      ]
    },
    {
      "cell_type": "code",
      "execution_count": null,
      "metadata": {
        "colab": {
          "base_uri": "https://localhost:8080/"
        },
        "id": "yxM4d1xcjj16",
        "outputId": "0819c8dc-9f3a-46ff-e408-c7aa5cfb3ac7"
      },
      "outputs": [
        {
          "name": "stdout",
          "output_type": "stream",
          "text": [
            "Welcome to tressure island\n",
            "Your mission is to find the treasure\n",
            "choose side left or rightleft\n",
            "swim or waitwait\n",
            "which door blue or red or yellowyellow\n",
            "You win\n"
          ]
        }
      ],
      "source": [
        "print(\"Welcome to tressure island\\nYour mission is to find the treasure\")\n",
        "side = input(\"choose side left or right\")\n",
        "\n",
        "if side == \"left\":\n",
        "  choose = input(\"swim or wait\")\n",
        "  if choose == \"wait\":\n",
        "    door = input(\"which door blue or red or yellow\")\n",
        "    if door == \"red\":\n",
        "      print(\"Burned by fire.\\nGame Over.\")\n",
        "    elif door == \"blue\":\n",
        "      print(\"Eaten by beasts.\\nGame Over\")\n",
        "    elif door == \"yellow\":\n",
        "      print(\"You win\")\n",
        "    else:\n",
        "        print(\"Game over\")\n",
        "  elif choose == \"swim\":\n",
        "    print(\"Attacked by trout.\\nGame Over\")\n",
        "  else:\n",
        "    print(\"Attacked by trout.\\nGame Over\")\n",
        "\n",
        "else:\n",
        "  print(\"Fall into a hole.\\nGame Over\")"
      ]
    },
    {
      "cell_type": "code",
      "execution_count": null,
      "metadata": {
        "colab": {
          "base_uri": "https://localhost:8080/"
        },
        "id": "xp4U6bJ1sdlh",
        "outputId": "0196650a-6ffc-4a18-c7d0-1ce6c8cf27ab"
      },
      "outputs": [
        {
          "name": "stdout",
          "output_type": "stream",
          "text": [
            "3\n",
            "3.6930566781591834\n",
            "6.519090864997006\n"
          ]
        }
      ],
      "source": [
        "import random\n",
        "random_integer = random.randint(1,10)\n",
        "print(random_integer)\n",
        "ran_num_bw_0_1 = random.random()*100\n",
        "print(ran_float)\n",
        "ran_float = random.uniform(1,10)\n",
        "print(ran_float)"
      ]
    },
    {
      "cell_type": "code",
      "execution_count": null,
      "metadata": {
        "colab": {
          "base_uri": "https://localhost:8080/"
        },
        "id": "ZT3mc6KiYwFB",
        "outputId": "a03aa438-a3e9-4a00-c586-f84e05b47c24"
      },
      "outputs": [
        {
          "name": "stdout",
          "output_type": "stream",
          "text": [
            "Tails\n"
          ]
        }
      ],
      "source": [
        "number = random.randint(0,1)\n",
        "if number == 0:\n",
        "  print(\"Tails\")\n",
        "else:\n",
        "  print(\"Heads\")"
      ]
    },
    {
      "cell_type": "code",
      "execution_count": null,
      "metadata": {
        "colab": {
          "base_uri": "https://localhost:8080/"
        },
        "id": "LsqUAIbFdQSV",
        "outputId": "a4c176e8-1ff4-4eb2-8606-b50da6208598"
      },
      "outputs": [
        {
          "data": {
            "text/plain": [
              "3"
            ]
          },
          "execution_count": 32,
          "metadata": {},
          "output_type": "execute_result"
        }
      ],
      "source": [
        "friends = [\"Alice\",\"Bob\", \"Charlie\", \"David\",\"Emmanuel\"]\n",
        "random.choice(friends)\n",
        "print(random.randint(0,4))\n"
      ]
    },
    {
      "cell_type": "markdown",
      "metadata": {
        "id": "M2kHA9d-uJwO"
      },
      "source": [
        "Rock,paper and scissors"
      ]
    },
    {
      "cell_type": "code",
      "execution_count": null,
      "metadata": {
        "colab": {
          "background_save": true,
          "base_uri": "https://localhost:8080/"
        },
        "id": "QlxzvlaOmven",
        "outputId": "6a01affc-047a-48f2-bdfe-770f856c9b42"
      },
      "outputs": [
        {
          "name": "stdout",
          "output_type": "stream",
          "text": [
            "What do you choose? Type 0 for Rock,1 for scissors and 2 for paper\n",
            "Computer wins\n"
          ]
        }
      ],
      "source": [
        "import random\n",
        "print(\"What do you choose? Type 0 for Rock,1 for scissors and 2 for paper\")\n",
        "user_input = int(input(\"Rock,paper or scissor\"))\n",
        "comp_input = random.randint(0,2)\n",
        "if user_input != comp_input:\n",
        "  if user_input == 0 and comp_input == 2:\n",
        "    print(\"Computer wins\")\n",
        "  elif user_input == 2 and comp_input ==0:\n",
        "    print(\"You win\")\n",
        "  if user_input == 0 and comp_input == 1:\n",
        "    print(\"You win\")\n",
        "  elif  user_input == 1 and comp_input == 0:\n",
        "    print(\"Computer wins\")\n",
        "  if user_input == 1 and comp_input == 2:\n",
        "    print(\"You win\")\n",
        "  elif user_input == 2 and comp_input == 1:\n",
        "    print(\"Computer wins\")\n",
        "else:\n",
        "  print(\"Nobody wins! It's a draw\")\n",
        "\n"
      ]
    },
    {
      "cell_type": "code",
      "execution_count": null,
      "metadata": {
        "colab": {
          "base_uri": "https://localhost:8080/"
        },
        "id": "DZUxjQfQAwOh",
        "outputId": "6bcf881d-9792-471c-bb88-b53c43b055fa"
      },
      "outputs": [
        {
          "name": "stdout",
          "output_type": "stream",
          "text": [
            "1466.1979999999999\n"
          ]
        }
      ],
      "source": [
        "student_score = [141,189.198,200,150,166,142,143,156,179]\n",
        "total_sum = 0\n",
        "for i in student_score:\n",
        "  total_sum += i\n",
        "print(total_sum)"
      ]
    },
    {
      "cell_type": "code",
      "execution_count": null,
      "metadata": {
        "colab": {
          "base_uri": "https://localhost:8080/"
        },
        "id": "sla4272KQ5QA",
        "outputId": "591c1a04-2e5d-4a2d-80e5-a3f1cd90eb41"
      },
      "outputs": [
        {
          "name": "stdout",
          "output_type": "stream",
          "text": [
            "200\n"
          ]
        }
      ],
      "source": [
        "student_score = [141,189.198,200,150,166,142,143,156,179]\n",
        "max_score = 0\n",
        "for i in student_score:\n",
        "  if i > max_score:\n",
        "    max_score = i\n",
        "print(max_score)"
      ]
    },
    {
      "cell_type": "code",
      "execution_count": null,
      "metadata": {
        "colab": {
          "base_uri": "https://localhost:8080/"
        },
        "id": "vsek0pzQvr5o",
        "outputId": "62663a54-8f88-4490-e81a-88c2f219f8ef"
      },
      "outputs": [
        {
          "name": "stdout",
          "output_type": "stream",
          "text": [
            "Welcome to password generator\n",
            "How many letters do you like in your password?\n",
            "5\n",
            "How many numbers do you want in your password?\n",
            "2\n",
            "How many symbols do you want in your password?\n",
            "2\n",
            "EJPrA00(#\n"
          ]
        }
      ],
      "source": [
        "import random\n",
        "letters = ['a','b','c','d','e','f','g','h','i','j','k','l','m','n','o','p','q','r','s','t','u','v','w','x','y','z','A','B','C','D','E','F','G','H','I','J','K','L','M','N','O','P','Q','R','S','T','U','V','W','X','Y','Z']\n",
        "numbers = ['0','1','2','3','4','5','6','7','8','9']\n",
        "symbols = ['!','$','#','%','&','(',')','*','+']\n",
        "print(\"Welcome to password generator\")\n",
        "num_letter = int(input(\"How many letters do you like in your password?\\n\"))\n",
        "num_numbers = int(input(\"How many numbers do you want in your password?\\n\"))\n",
        "num_symbols = int(input(\"How many symbols do you want in your password?\\n\"))\n",
        "\n",
        "password = \"\"\n",
        "for char in range(1,num_letter+1):\n",
        "  random_char = random.choice(letters)\n",
        "  password += random_char\n",
        "\n",
        "for num in range(1,num_numbers+1):\n",
        "  random_num = random.choice(numbers)\n",
        "  password += random_num\n",
        "\n",
        "for sym in range(1,num_symbols+1):\n",
        "  random_sym = random.choice(symbols)\n",
        "  password += random_sym\n",
        "\n",
        "print(password)\n",
        "\n"
      ]
    },
    {
      "cell_type": "markdown",
      "metadata": {
        "id": "Jj8FQiskuFnw"
      },
      "source": [
        "Password generator"
      ]
    },
    {
      "cell_type": "code",
      "execution_count": null,
      "metadata": {
        "colab": {
          "base_uri": "https://localhost:8080/"
        },
        "id": "8n-tofp06SW_",
        "outputId": "996b3f35-a162-415e-ce4a-f140ede2013d"
      },
      "outputs": [
        {
          "name": "stdout",
          "output_type": "stream",
          "text": [
            "Welcome to password generator\n",
            "How many letters do you like in your password?\n",
            "4\n",
            "How many numbers do you want in your password?\n",
            "3\n",
            "How many symbols do you want in your password?\n",
            "2\n",
            "['s', 'Y', 'y', 'F', '5', '0', '8', '$', '&']\n",
            "['y', '0', 'Y', '&', 'F', '5', '$', '8', 's']\n",
            "y508Y&$8&\n"
          ]
        }
      ],
      "source": [
        "import random\n",
        "letters = ['a','b','c','d','e','f','g','h','i','j','k','l','m','n','o','p','q','r','s','t','u','v','w','x','y','z','A','B','C','D','E','F','G','H','I','J','K','L','M','N','O','P','Q','R','S','T','U','V','W','X','Y','Z']\n",
        "numbers = ['0','1','2','3','4','5','6','7','8','9']\n",
        "symbols = ['!','$','#','%','&','(',')','*','+']\n",
        "print(\"Welcome to password generator\")\n",
        "num_letter = int(input(\"How many letters do you like in your password?\\n\"))\n",
        "num_numbers = int(input(\"How many numbers do you want in your password?\\n\"))\n",
        "num_symbols = int(input(\"How many symbols do you want in your password?\\n\"))\n",
        "\n",
        "password_list = []\n",
        "for char in range(1,num_letter+1):\n",
        "  random_char = random.choice(letters)\n",
        "  password_list.append(random_char)\n",
        "\n",
        "for num in range(1,num_numbers+1):\n",
        "  random_num = random.choice(numbers)\n",
        "  password_list.append(random_num)\n",
        "\n",
        "for sym in range(1,num_symbols+1):\n",
        "  random_sym = random.choice(symbols)\n",
        "  password_list.append(random_sym)\n",
        "\n",
        "print(password_list)\n",
        "\n",
        "random.shuffle(password_list)\n",
        "print(password_list)\n",
        "\n",
        "password = \"\"\n",
        "\n",
        "for pw in range(0,len(password_list)):\n",
        " random_pw = random.choice(password_list)\n",
        " password += random_pw\n",
        "\n",
        "\n",
        "print(password)\n",
        "\n"
      ]
    },
    {
      "cell_type": "markdown",
      "metadata": {
        "id": "g3ytL2O4uC1Q"
      },
      "source": [
        "Hangman"
      ]
    },
    {
      "cell_type": "code",
      "execution_count": null,
      "metadata": {
        "colab": {
          "base_uri": "https://localhost:8080/"
        },
        "id": "Cvv2TMpC8L6o",
        "outputId": "f23a15c8-de60-47db-ceb0-18b7c5e2b249"
      },
      "outputs": [
        {
          "name": "stdout",
          "output_type": "stream",
          "text": [
            " _ _ _ _ _ _ \n",
            "Enter a letter: a\n",
            "_ a_ _ _ _ \n",
            "Enter a letter: r\n",
            "_ a_ _ _ _ \n",
            "Enter a letter: b\n",
            "bab_ _ _ \n",
            "Enter a letter: n\n",
            "bab_ _ n\n",
            "Enter a letter: o\n",
            "baboon\n",
            "You win\n"
          ]
        }
      ],
      "source": [
        "import random #import random\n",
        "# set lives\n",
        "lives = 6\n",
        "\n",
        "# give a list of word to choose from\n",
        "word_list = [\"aardvark\",\"baboon\",\"camel\"]\n",
        "\n",
        "#use random cj=hoice to choose\n",
        "word = random.choice(word_list)\n",
        "#print(word)\n",
        "\n",
        "# to give blank spaces\n",
        "placeholder = \" \"\n",
        "for i in range(len(word)):\n",
        "  placeholder += \"_ \"\n",
        "print(placeholder)\n",
        "\n",
        "# to loop until we collect all letters of the word\n",
        "game_over = False\n",
        "correct_letter = [] # to add letters that were already choosen\n",
        "\n",
        "while not game_over:\n",
        "  guess = input(\"Enter a letter: \").lower()\n",
        "\n",
        "  #let the user know already gguess the letter\n",
        "#if guess in correct_letter:\n",
        "  #print(\"already guessed\")\n",
        "\n",
        "  # to give _ for letters not guessed yet\n",
        "  display = \"\"\n",
        "  # to check the letter\n",
        "  for i in word:\n",
        "    if i == guess:\n",
        "      display += i\n",
        "      correct_letter.append(guess)\n",
        "    elif i in correct_letter:\n",
        "      display += i # to display the already choosen letter\n",
        "    else:\n",
        "      display += \"_ \"\n",
        "  print(display)\n",
        "# to reduce lives with each wrong choice\n",
        "  if guess not in word:\n",
        "    lives -= 1\n",
        "    #print(f\"Lives left id {lives-+1}\")\n",
        "    if lives == 0:\n",
        "      game_over = True\n",
        "      print(\"You lose\")\n",
        "\n",
        "  # if no _s left then to change game over condition\n",
        "  if \"_\" not in display:\n",
        "    game_over = True\n",
        "    print(\"You win\")"
      ]
    },
    {
      "cell_type": "code",
      "execution_count": null,
      "metadata": {
        "colab": {
          "base_uri": "https://localhost:8080/"
        },
        "id": "ugeJkcZ6KyI1",
        "outputId": "58bc09e0-602d-49c3-ad42-3beeb93ce22f"
      },
      "outputs": [
        {
          "name": "stdout",
          "output_type": "stream",
          "text": [
            "Hello milo\n",
            "How do you do?\n",
            "Isn't the weather wonderful?!\n",
            "Hello Gaayathri!\n",
            "How do you do Gaayathri?\n"
          ]
        }
      ],
      "source": [
        "def greet():\n",
        "  print(f\"Hello milo\")\n",
        "  print(\"How do you do?\")\n",
        "  print(\"Isn't the weather wonderful?!\")\n",
        "\n",
        "greet()\n",
        "\n",
        "def greet_with_name(name):\n",
        "   print(f\"Hello {name}!\")\n",
        "   print(f\"How do you do {name}?\")\n",
        "name  = \"Gaayathri\"\n",
        "greet_with_name(name)"
      ]
    },
    {
      "cell_type": "code",
      "execution_count": null,
      "metadata": {
        "colab": {
          "base_uri": "https://localhost:8080/"
        },
        "id": "vR7-00wBpJpv",
        "outputId": "17d583e6-7ca1-4a5c-f73c-e6b826206293"
      },
      "outputs": [
        {
          "name": "stdout",
          "output_type": "stream",
          "text": [
            "Hello Henry!\n",
            "How do you do Henry?\n",
            "What is it like in Florida ?!\n"
          ]
        }
      ],
      "source": [
        "#function with more than 1 input\n",
        "def greet_with(name,location):\n",
        "  print(f\"Hello {name}!\")\n",
        "  print(f\"How do you do {name}?\")\n",
        "  print(f\"What is it like in {location} ?!\")\n",
        "\n",
        "name = \"Henry\"\n",
        "location = \"Florida\"\n",
        "greet_with(name,location)"
      ]
    },
    {
      "cell_type": "code",
      "execution_count": null,
      "metadata": {
        "colab": {
          "base_uri": "https://localhost:8080/"
        },
        "id": "9ljURVKU0CNp",
        "outputId": "e8d41547-3fef-4e8f-ba90-6b381675dcd4"
      },
      "outputs": [
        {
          "name": "stdout",
          "output_type": "stream",
          "text": [
            "42\n"
          ]
        }
      ],
      "source": [
        "# love calculater\n",
        "def calculate_love_score(name1, name2):\n",
        "    combined_names = name1 + name2\n",
        "    lower_names = combined_names.lower()\n",
        "\n",
        "    t = lower_names.count(\"t\")\n",
        "    r = lower_names.count(\"r\")\n",
        "    u = lower_names.count(\"u\")\n",
        "    e = lower_names.count(\"e\")\n",
        "    first_digit = t + r + u + e\n",
        "\n",
        "    l = lower_names.count(\"l\")\n",
        "    o = lower_names.count(\"o\")\n",
        "    v = lower_names.count(\"v\")\n",
        "    e = lower_names.count(\"e\")\n",
        "    second_digit = l + o + v + e\n",
        "\n",
        "\n",
        "    score = int(str(first_digit) + str(second_digit))\n",
        "    print(score)\n",
        "\n",
        "calculate_love_score(\"Kanye West\", \"Kim Kardashian\")"
      ]
    },
    {
      "cell_type": "markdown",
      "metadata": {
        "id": "cfN7KxaWt89d"
      },
      "source": [
        "Encrypt and decrypt"
      ]
    },
    {
      "cell_type": "code",
      "execution_count": null,
      "metadata": {
        "colab": {
          "base_uri": "https://localhost:8080/"
        },
        "id": "LKYGlyRuATbA",
        "outputId": "57b44784-24e1-4374-b546-d5c1eb4ce88d"
      },
      "outputs": [
        {
          "name": "stdout",
          "output_type": "stream",
          "text": [
            "Type 'encode' to encrypt 'decode' to decrypt:\n",
            "encode\n",
            "Enter the text : \n",
            "zebra\n",
            "Type the shift number: \n",
            "2\n",
            "Here is the encoded text : bgdtc\n"
          ]
        }
      ],
      "source": [
        "alphabet = ['a','b','c','d','e','f','g','h','i','j','k','l','m','n','o','p','q','r','s','t','u','v','w','x','y','z']\n",
        "direction = input(\"Type 'encode' to encrypt 'decode' to decrypt:\\n\").lower()\n",
        "text  = input(\"Enter the text : \\n\").lower()\n",
        "shift = int(input(\"Type the shift number: \\n\"))\n",
        "def encrypt(original_text,shift_amount):\n",
        "  encrypted_text = \"\"\n",
        "  for letter in original_text:\n",
        "    shift_position = alphabet.index(letter) + shift_amount\n",
        "    shift_position = shift_position % len(alphabet)\n",
        "    encrypted_text += alphabet[shift_position]\n",
        "  print(f\"Here is the encoded text : {encrypted_text}\")\n",
        "\n",
        "def decrypt(original_text,shift_amount):\n",
        "  decrypted_text = \"\"\n",
        "  for letter in original_text:\n",
        "    shift_position = alphabet.index(letter) - shift_amount\n",
        "    shift_position = shift_position %len(alphabet)\n",
        "    decrypted_text += alphabet[shift_position]\n",
        "  print(f\"Here is the encoded text : {decrypted_text}\")\n",
        "if direction == \"encode\":\n",
        "  encrypt(text,shift)\n",
        "else:\n",
        "  decrypt(text,shift)\n",
        "\n"
      ]
    },
    {
      "cell_type": "markdown",
      "metadata": {
        "id": "Sip8Ynlst6Kz"
      },
      "source": [
        "Caesar cipher"
      ]
    },
    {
      "cell_type": "code",
      "execution_count": null,
      "metadata": {
        "colab": {
          "base_uri": "https://localhost:8080/"
        },
        "id": "xi8apIWXFhFR",
        "outputId": "09995854-8463-426a-a345-7179125f8313"
      },
      "outputs": [
        {
          "name": "stdout",
          "output_type": "stream",
          "text": [
            "Type 'encode' to encrypt 'decode' to decrypt:\n",
            "decode\n",
            "Enter the text : \n",
            "hello\n",
            "Type the shift number: \n",
            "3\n",
            "Here is the decoded text : ebiil\n"
          ]
        }
      ],
      "source": [
        "#using one function for the above\n",
        "alphabet = ['a','b','c','d','e','f','g','h','i','j','k','l','m','n','o','p','q','r','s','t','u','v','w','x','y','z']\n",
        "direction = input(\"Type 'encode' to encrypt 'decode' to decrypt:\\n\").lower()\n",
        "text  = input(\"Enter the text : \\n\").lower()\n",
        "shift = int(input(\"Type the shift number: \\n\"))\n",
        "\n",
        "#combining encode and decode in one function\n",
        "def caesar(original_text,shift_amount,encode_or_decode):\n",
        "\n",
        "  output_text = \"\"\n",
        "  # multiplying shift with -1 will give decode\n",
        "  if encode_or_decode ==\"decode\":\n",
        "    shift_amount *= -1\n",
        "  for letter in original_text:\n",
        "    shift_position = alphabet.index(letter) + shift_amount\n",
        "    shift_position = shift_position % len(alphabet)\n",
        "    output_text += alphabet[shift_position]\n",
        "  print(f\"Here is the {encode_or_decode}d text : {output_text}\")\n",
        "\n",
        "caesar(text,shift,direction)"
      ]
    },
    {
      "cell_type": "code",
      "execution_count": null,
      "metadata": {
        "colab": {
          "base_uri": "https://localhost:8080/"
        },
        "id": "r3RDIZ9TNDym",
        "outputId": "fd5dfa3c-2945-490f-f954-8674df813358"
      },
      "outputs": [
        {
          "name": "stdout",
          "output_type": "stream",
          "text": [
            "green\n",
            "apple\n",
            "red\n",
            "pear\n",
            "green\n",
            "grapes\n",
            "violet\n",
            "watermelon\n",
            "pinkish red\n"
          ]
        }
      ],
      "source": [
        "colors = {\n",
        "    \"apple\":\"red\",\n",
        "    \"pear\":\"green\",\n",
        "    \"grapes\":\"violet\",\n",
        "}\n",
        "print(colors[\"pear\"])\n",
        "colors[\"watermelon\"] = \"pinkish red\"\n",
        "for key in colors:\n",
        "  print(key)\n",
        "  print(colors[key])"
      ]
    },
    {
      "cell_type": "code",
      "execution_count": null,
      "metadata": {
        "colab": {
          "base_uri": "https://localhost:8080/"
        },
        "id": "7Mi76ajChSWK",
        "outputId": "83c5343f-7de7-45b6-91eb-4a877a246b1d"
      },
      "outputs": [
        {
          "name": "stdout",
          "output_type": "stream",
          "text": [
            "lille\n"
          ]
        }
      ],
      "source": [
        "capitals = {\n",
        "    \"France\":\"Paris\",\n",
        "    \"Germany\":\"Berlin\",\n",
        "}\n",
        "travel_log = {\n",
        "    \"France\" :[\"paris\",\"lille\",\"Djion\"],\n",
        "    \"Germany\": [\"Stuutgart\",\"Berlin\"],\n",
        "}\n",
        "print(travel_log[\"France\"][1])"
      ]
    },
    {
      "cell_type": "code",
      "execution_count": null,
      "metadata": {
        "colab": {
          "base_uri": "https://localhost:8080/"
        },
        "id": "r7XHSypxmnQN",
        "outputId": "42970158-56fd-46ce-ad94-e458a826b95c"
      },
      "outputs": [
        {
          "name": "stdout",
          "output_type": "stream",
          "text": [
            "Stuutgart\n"
          ]
        }
      ],
      "source": [
        "# dictionary eithin dictionary\n",
        "travel_log = {\n",
        "     \"France\" :{\n",
        "        \"cities_visited\" : [\"paris\",\"lille\",\"Djion\"],\n",
        "        \"total_visits\":8\n",
        "           },\n",
        "    \"Germany\": {\n",
        "        \"cities_visited\": [\"Stuutgart\",\"Berlin\"],\n",
        "        \"total_visits\" : 5\n",
        "        }\n",
        "\n",
        "}\n",
        "print(travel_log[\"Germany\"][\"cities_visited\"][0])\n",
        "\n"
      ]
    },
    {
      "cell_type": "markdown",
      "metadata": {
        "id": "P0tpwehEt2yo"
      },
      "source": [
        "Bidding"
      ]
    },
    {
      "cell_type": "code",
      "execution_count": null,
      "metadata": {
        "colab": {
          "base_uri": "https://localhost:8080/"
        },
        "id": "0kPeGUYd2s5N",
        "outputId": "a0d8538b-7110-4d6a-ba7a-db93bf849ff8"
      },
      "outputs": [
        {
          "name": "stdout",
          "output_type": "stream",
          "text": [
            "What's your name?: milo\n",
            "What's your bid?: $182\n",
            "Are there other bidders? Yes or Noyes\n",
            "What's your name?: gaayu\n",
            "What's your bid?: $146\n",
            "Are there other bidders? Yes or Nono\n",
            "milo is the winner of the auction\n",
            "{'milo': 182, 'gaayu': 146}\n",
            "milo\n"
          ]
        }
      ],
      "source": [
        "#empty dictionary\n",
        "bid= {}\n",
        "\n",
        "#use while loop to keep continuing the bid\n",
        "\n",
        "continue_bidding = True\n",
        "while continue_bidding:\n",
        "  #ask name and bid\n",
        "  name  = input(\"What's your name?: \")\n",
        "  price = int(input(\"What's your bid?: $\"))\n",
        "\n",
        "  #ask if there are other player\n",
        "  should_continue = input(\"Are there other bidders? Yes or No\").lower()\n",
        "#adding all the inputs to the dictionary\n",
        "  bid[name] = price\n",
        "  if should_continue == \"no\":\n",
        "    continue_bidding = False\n",
        "max_bid = 0\n",
        "for key in bid:\n",
        "  value = bid[key]\n",
        "  if value >= max_bid:\n",
        "    max_bid = value\n",
        "    print(f\"{key} is the winner of the auction\")\n",
        "\n",
        "print(bid)\n",
        "print(max(bid,key = bid.get))"
      ]
    },
    {
      "cell_type": "code",
      "execution_count": null,
      "metadata": {
        "colab": {
          "base_uri": "https://localhost:8080/",
          "height": 36
        },
        "id": "j22E1izJ55ja",
        "outputId": "0511984c-d493-4142-bc57-1b4f9db18683"
      },
      "outputs": [
        {
          "data": {
            "application/vnd.google.colaboratory.intrinsic+json": {
              "type": "string"
            },
            "text/plain": [
              "'Brad Pitt'"
            ]
          },
          "execution_count": 5,
          "metadata": {},
          "output_type": "execute_result"
        }
      ],
      "source": [
        "def format_name(f_name,l_name):\n",
        "  f_name_format = f_name.title()\n",
        "  l_name_format = l_name.title()\n",
        "  full_name = f_name_format + \" \" + l_name_format\n",
        "  return full_name\n",
        "\n",
        "format_name(\"brad\",\"pitt\")\n"
      ]
    },
    {
      "cell_type": "markdown",
      "metadata": {
        "id": "xFvTSs6ktx2t"
      },
      "source": [
        "To find if a year is leap or not"
      ]
    },
    {
      "cell_type": "code",
      "execution_count": null,
      "metadata": {
        "colab": {
          "base_uri": "https://localhost:8080/"
        },
        "id": "u2FD4S0gFElb",
        "outputId": "e694a1d2-871d-4044-9114-101a34af8dba"
      },
      "outputs": [
        {
          "name": "stdout",
          "output_type": "stream",
          "text": [
            "True, False\n"
          ]
        }
      ],
      "source": [
        "# to find if a year is leap or not\n",
        "def is_leap_year(year):\n",
        "  # first the year should be divisible by 4\n",
        "  if year % 4 ==0:\n",
        "    # then check if it's divisible by 100 it should not be unless it's divisible by 400 also\n",
        "    if year % 100 == 0:\n",
        "      if year % 400 ==0:\n",
        "        return True\n",
        "      else:\n",
        "        return False\n",
        "    else:\n",
        "      return True\n",
        "  else:\n",
        "    return False\n",
        "\n",
        "a = is_leap_year(2000)\n",
        "b = is_leap_year(2100)\n",
        "print(f\"{a}, {b}\")\n"
      ]
    },
    {
      "cell_type": "markdown",
      "metadata": {
        "id": "vW9iIcNQtvB4"
      },
      "source": [
        "Calculator"
      ]
    },
    {
      "cell_type": "code",
      "execution_count": null,
      "metadata": {
        "colab": {
          "base_uri": "https://localhost:8080/"
        },
        "id": "Kqo2SU3gQSab",
        "outputId": "10300120-d9c4-4bf3-a3e2-7d399ad30290"
      },
      "outputs": [
        {
          "name": "stdout",
          "output_type": "stream",
          "text": [
            "Enter the first number: 4\n",
            "+\n",
            "-\n",
            "*\n",
            "/\n",
            "Choose an operator+\n",
            "Enter the second number: 5\n",
            "4.0 + 5.0 = 9.0\n",
            "Type 'y' if you want to continue with answer4, type 'n' if you want to start a new calculationy\n",
            "+\n",
            "-\n",
            "*\n",
            "/\n",
            "Choose an operator*\n",
            "Enter the second number: 2\n",
            "9.0 * 2.0 = 18.0\n",
            "Type 'y' if you want to continue with answer4, type 'n' if you want to start a new calculationn\n",
            "\n",
            "\n",
            "\n",
            "\n",
            "\n",
            "\n",
            "\n",
            "\n",
            "\n",
            "\n",
            "\n",
            "\n",
            "\n",
            "\n",
            "\n",
            "\n",
            "\n",
            "\n",
            "\n",
            "\n",
            "\n",
            "Enter the first number: 4\n",
            "+\n",
            "-\n",
            "*\n",
            "/\n",
            "Choose an operator+\n",
            "Enter the second number: 2\n",
            "4.0 + 2.0 = 6.0\n",
            "Type 'y' if you want to continue with answer4, type 'n' if you want to start a new calculationn\n",
            "\n",
            "\n",
            "\n",
            "\n",
            "\n",
            "\n",
            "\n",
            "\n",
            "\n",
            "\n",
            "\n",
            "\n",
            "\n",
            "\n",
            "\n",
            "\n",
            "\n",
            "\n",
            "\n",
            "\n",
            "\n"
          ]
        }
      ],
      "source": [
        "#define functions for all 4 operations\n",
        "#addition\n",
        "def add(a,b):\n",
        "  return a+b\n",
        "\n",
        "#subtraction\n",
        "def sub(a,b):\n",
        "  return a-b\n",
        "\n",
        "#multiplication\n",
        "def multi(a,b):\n",
        "  return a*b\n",
        "\n",
        "#division\n",
        "def div(a,b):\n",
        "  return a/b\n",
        "\n",
        "#add all the 4 functions to a dictionary with the operators as keys and fucntions  as values\n",
        "operations = {\n",
        "    \"+\" : add,\n",
        "    \"-\" : sub,\n",
        "    \"*\" : multi,\n",
        "    \"/\" : div,\n",
        "}\n",
        "#use a function\n",
        "def calculator():\n",
        "  # use a variable to use while loop\n",
        "  should_accumulate = True\n",
        "\n",
        "#input the first number\n",
        "  num1 = float(input(\"Enter the first number: \"))\n",
        "#user picks an operator\n",
        "  while should_accumulate:\n",
        "    for symbol in operations: #use for loop to iterate within the dictionary\n",
        "      print(symbol)\n",
        "    operator = input(\"Choose an operator\")\n",
        "\n",
        "    #input the next number\n",
        "    num2 = float(input(\"Enter the second number: \"))\n",
        "    #access value from the dictionary\n",
        "    answer = operations[operator](num1,num2)\n",
        "    print(f\"{num1} {operator} {num2} = {answer}\")\n",
        "\n",
        "    #ask whether the user wants to continue or start a new calculation\n",
        "    choice = input(\"Type 'y' if you want to continue with answer4, type 'n' if you want to start a new calculation\").lower()\n",
        "\n",
        "    #to continue with answer\n",
        "    if choice == \"y\":\n",
        "      num1 = answer\n",
        "    else:\n",
        "      should_accumulate = False\n",
        "      print(\"\\n\"*20)\n",
        "      calculator()\n",
        "\n",
        "calculator()"
      ]
    },
    {
      "cell_type": "markdown",
      "metadata": {
        "id": "82Mgq38CuaLp"
      },
      "source": [
        "Black jack"
      ]
    },
    {
      "cell_type": "code",
      "execution_count": null,
      "metadata": {
        "colab": {
          "background_save": true,
          "base_uri": "https://localhost:8080/"
        },
        "id": "xomgXJKrucO0",
        "outputId": "ca429cc9-6c69-4219-de5d-4f3a1999a033"
      },
      "outputs": [
        {
          "name": "stdout",
          "output_type": "stream",
          "text": [
            "\n",
            "\n",
            "\n",
            "\n",
            "\n",
            "\n",
            "\n",
            "\n",
            "\n",
            "\n",
            "\n",
            "\n",
            "\n",
            "\n",
            "\n",
            "\n",
            "\n",
            "\n",
            "\n",
            "\n",
            "\n",
            "The cards of the user are [6, 10] and the score is 16\n",
            "The first card of computer is 10\n",
            "The final hand of the user is [6, 10] and the final score is 16\n",
            "The final hand of the computer is [10, 8] and the final score is 18\n",
            "You lose\n",
            "\n",
            "\n",
            "\n",
            "\n",
            "\n",
            "\n",
            "\n",
            "\n",
            "\n",
            "\n",
            "\n",
            "\n",
            "\n",
            "\n",
            "\n",
            "\n",
            "\n",
            "\n",
            "\n",
            "\n",
            "\n",
            "The cards of the user are [6, 11] and the score is 17\n",
            "The first card of computer is 10\n",
            "The final hand of the user is [6, 11] and the final score is 17\n",
            "The final hand of the computer is [10, 11] and the final score is 0\n",
            "Lose,opponent has blackjack\n",
            "\n",
            "\n",
            "\n",
            "\n",
            "\n",
            "\n",
            "\n",
            "\n",
            "\n",
            "\n",
            "\n",
            "\n",
            "\n",
            "\n",
            "\n",
            "\n",
            "\n",
            "\n",
            "\n",
            "\n",
            "\n",
            "The cards of the user are [5, 10] and the score is 15\n",
            "The first card of computer is 8\n",
            "The cards of the user are [5, 10, 7] and the score is 22\n",
            "The first card of computer is 8\n",
            "The final hand of the user is [5, 10, 7] and the final score is 22\n",
            "The final hand of the computer is [8, 11] and the final score is 19\n",
            "You went over. You lose\n"
          ]
        }
      ],
      "source": [
        "import random\n",
        "\n",
        "# let's define a function\n",
        "def deal_card(): # returns a random card from the deck\n",
        "  #create a list of cards i.e, values\n",
        "  cards = [11,2,3,4,5,6,7,8,9,10,10,10,10]\n",
        "  #pick a random card\n",
        "  card = random.choice(cards)\n",
        "  return card\n",
        "\n",
        "\n",
        "# define a function calculate score\n",
        "def calculate_score(cards):\n",
        "  if sum(cards) == 21 and len(cards) == 2: #if there is 10 and 11 i.e, ace and 10 then we return 0\n",
        "    return 0\n",
        "  if 11 in cards and sum(cards) >21: # if cum exceeds 21 the ace card's value will be changed to 1\n",
        "    cards.remove(11)\n",
        "    cards.append(1)\n",
        "\n",
        "  return sum(cards)\n",
        "\n",
        "\n",
        "#define another function to compare the score\n",
        "def compare(u_score,c_score):\n",
        "  if u_score == c_score:\n",
        "    return \"Draw\"\n",
        "  elif c_score == 0:\n",
        "    return \"Lose,opponent has blackjack\"\n",
        "  elif u_score == 0:\n",
        "    return \"Win with a blackjack\"\n",
        "  elif u_score > 21:\n",
        "    return \"You went over. You lose\"\n",
        "  elif c_score > 21:\n",
        "    return \"opponent went over. You win\"\n",
        "  elif u_score > c_score:\n",
        "    return \"You win\"\n",
        "  else:\n",
        "    return \"You lose\"\n",
        "\n",
        "def play_game():\n",
        "  user_cards = []\n",
        "  computer_cards = []\n",
        "  user_score = -1\n",
        "  computer_score = -1 # initialize scores to use them in the 2nd while loop\n",
        "  is_game_over = False\n",
        "\n",
        "  #loop twice because once\n",
        "  for _ in range(2): # we use _ because we dont't need variable just need to run it twice\n",
        "    user_cards.append(deal_card()) # append random cards to user\n",
        "    computer_cards.append(deal_card()) #append random cards to computer\n",
        "\n",
        "\n",
        "  #use a while loop to continue till game over\n",
        "  while not is_game_over: # this loop is for the user\n",
        "\n",
        "    #calculate score for user and computer\n",
        "    user_score = calculate_score(user_cards)\n",
        "    computer_score = calculate_score(computer_cards)\n",
        "    print(f\"The cards of the user are {user_cards} and the score is {user_score}\")\n",
        "    print(f\"The first card of computer is {computer_cards[0]}\")\n",
        "\n",
        "    #game over condition\n",
        "    if user_score == 0 or computer_score == 0 or user_score > 21:\n",
        "      is_game_over = True\n",
        "    else:\n",
        "      user_should_deal = input(\"Type 'y' if you want another card or 'n' to pass\") # to draw another card\n",
        "      if user_should_deal == 'y':\n",
        "        user_cards.append(deal_card()) # add another card to user_cards\n",
        "      else:\n",
        "        is_game_over = True # if n then game over\n",
        "\n",
        "  # use a while loop, to check if computer score is less than 17\n",
        "  while computer_score != 0 and computer_score < 17: # this while loop is for the computer to draw another card\n",
        "    computer_cards.append(deal_card()) # add another card\n",
        "    computer_score = calculate_score(computer_cards) # add the new card score also\n",
        "\n",
        "\n",
        "  # print the final hand and score of user and computer and use the fucntion compare\n",
        "  print(f\"The final hand of the user is {user_cards} and the final score is {user_score}\")\n",
        "  print(f\"The final hand of the computer is {computer_cards} and the final score is {computer_score}\")\n",
        "  print(compare(user_score,computer_score))\n",
        "\n",
        "# ask player if they want to play a game of blackjack\n",
        "while input(\"Do you want to play a game of blackjack? Type 'y' or 'n' \") == 'y':\n",
        "  print(\"\\n\"*20)\n",
        "  play_game()"
      ]
    },
    {
      "cell_type": "markdown",
      "metadata": {
        "id": "PW2F_MTT7K19"
      },
      "source": [
        "Prime number"
      ]
    },
    {
      "cell_type": "code",
      "execution_count": null,
      "metadata": {
        "colab": {
          "base_uri": "https://localhost:8080/"
        },
        "id": "GcM48Gas8SZ9",
        "outputId": "f5b1805e-297b-414c-bfa1-3802b621eeff"
      },
      "outputs": [
        {
          "name": "stdout",
          "output_type": "stream",
          "text": [
            "False\n",
            "True\n"
          ]
        }
      ],
      "source": [
        "def is_prime(num):\n",
        "    if num == 2:\n",
        "        return True\n",
        "    if num == 1:\n",
        "        return False\n",
        "\n",
        "    # Loop through all the numbers between 2 and the number\n",
        "    for i in range(2, num):\n",
        "        # Check if the number (num) can be divided by the potential prime number\n",
        "        if num % i == 0:\n",
        "            return False\n",
        "\n",
        "    # this return is outside for those not divisible by i and also those numbers that aren't 1 and  2\n",
        "    return True\n",
        "\n",
        "print(is_prime(75))\n",
        "print(is_prime(73))"
      ]
    },
    {
      "cell_type": "markdown",
      "metadata": {
        "id": "qqRkT3n39fgf"
      },
      "source": [
        "Guessing Game"
      ]
    },
    {
      "cell_type": "code",
      "execution_count": null,
      "metadata": {
        "colab": {
          "base_uri": "https://localhost:8080/"
        },
        "id": "Tnejjdhj7YV6",
        "outputId": "eda2d0de-973f-4db6-aecc-73be54e26d64"
      },
      "outputs": [
        {
          "name": "stdout",
          "output_type": "stream",
          "text": [
            "Welcome to the guessing game\n",
            "I'm thinking of a number between 1 and 100 \n",
            "Choose difficulty. Type easy or hard easy\n",
            "You have 10 remaining to guess the number\n",
            "Make a guess: 70\n",
            "Too high\n",
            "You have 9 remaining to guess the number\n",
            "Make a guess: 50\n",
            "Too high\n",
            "You have 8 remaining to guess the number\n",
            "Make a guess: 74\n",
            "Too high\n",
            "You have 7 remaining to guess the number\n",
            "Make a guess: 55\n",
            "Too high\n",
            "You have 6 remaining to guess the number\n",
            "Make a guess: 44\n",
            "Too high\n",
            "You have 5 remaining to guess the number\n",
            "Make a guess: 10\n",
            "Too low\n",
            "You have 4 remaining to guess the number\n",
            "Make a guess: 11\n",
            "Too low\n",
            "You have 3 remaining to guess the number\n",
            "Make a guess: 20\n",
            "Too high\n",
            "You have 2 remaining to guess the number\n",
            "Make a guess: 22\n",
            "Too high\n",
            "You have 1 remaining to guess the number\n",
            "Make a guess: 7\n",
            "Too low\n",
            "YOu have run out of chances. You lose\n"
          ]
        }
      ],
      "source": [
        "import random  # to guess a random number\n",
        "# set global variable for turns\n",
        "easy_turns = 10\n",
        "hard_turns = 5\n",
        "\n",
        "\n",
        "# create a function for guessing game\n",
        "def check_answer(user_guess,actual_answer,turns): # checks answer against guess and returns remaining turns\n",
        "  if user_guess > actual_answer:\n",
        "    print(\"Too high\")\n",
        "    return turns - 1\n",
        "  elif user_guess < actual_answer:\n",
        "    print(\"Too low\")\n",
        "    return turns - 1\n",
        "  else:\n",
        "    print(f\"You got it! The answer is {actual_answer}\") # if a guess is graeater than 100 or less than 1\n",
        "\n",
        "# function to set difficulty\n",
        "def set_difficulty():\n",
        "  level = input(\"Choose difficulty. Type easy or hard \").lower()\n",
        "  if level == 'hard': # set turns\n",
        "    turns = hard_turns\n",
        "  else:\n",
        "    turns = easy_turns\n",
        "  return turns\n",
        "def game():\n",
        "  #chossing a number between 1 and 100\n",
        "  print(\"Welcome to the guessing game\")\n",
        "  print(\"I'm thinking of a number between 1 and 100 \")\n",
        "  answer = random.randint(1,100) # the computer guesses a random integer\n",
        "\n",
        "\n",
        "# user chooses difficulty\n",
        "  turns = set_difficulty()\n",
        "\n",
        "\n",
        "  # guess as a global variable\n",
        "  guess = 0\n",
        "\n",
        "  # loop it till guess is not equal to answer\n",
        "  while guess != answer:\n",
        "\n",
        "\n",
        "    print(f\"You have {turns} remaining to guess the number\")\n",
        "    # let user guess a number\n",
        "    guess = int(input(\"Make a guess: \"))\n",
        "    turns = check_answer(guess,answer,turns)\n",
        "    if turns == 0:\n",
        "      print(\"YOu have run out of chances. You lose\")\n",
        "      return\n",
        "\n",
        "game()\n"
      ]
    },
    {
      "cell_type": "code",
      "execution_count": null,
      "metadata": {
        "colab": {
          "base_uri": "https://localhost:8080/"
        },
        "id": "WND7zFWfBjus",
        "outputId": "102bcc44-7795-49ad-b779-ca166546f100"
      },
      "outputs": [
        {
          "name": "stdout",
          "output_type": "stream",
          "text": [
            "You got it\n"
          ]
        }
      ],
      "source": [
        "def my_function():\n",
        "  for i in range(1,21):\n",
        "    if i == 20:\n",
        "      print(\"You got it\")\n",
        "my_function()"
      ]
    },
    {
      "cell_type": "code",
      "execution_count": null,
      "metadata": {
        "id": "dwfRBX6XduIq"
      },
      "outputs": [],
      "source": []
    },
    {
      "cell_type": "markdown",
      "metadata": {
        "id": "bxO8ypCmutSb"
      },
      "source": [
        "Higher or Lower game"
      ]
    },
    {
      "cell_type": "code",
      "execution_count": null,
      "metadata": {
        "colab": {
          "base_uri": "https://localhost:8080/"
        },
        "id": "BFLi-fTx91wn",
        "outputId": "758b1e9c-7e17-4be6-b00a-8792e0805661"
      },
      "outputs": [
        {
          "name": "stdout",
          "output_type": "stream",
          "text": [
            "\n",
            "    __  ___       __             \n",
            "   / / / (_)___ _/ /_  ___  _____\n",
            "  / /_/ / / __ `/ __ \\/ _ \\/ ___/\n",
            " / __  / / /_/ / / / /  __/ /    \n",
            "/_/ ///_/\\__, /_/ /_/\\___/_/     \n",
            "   / /  /____/_      _____  _____\n",
            "  / /   / __ \\ | /| / / _ \\/ ___/\n",
            " / /___/ /_/ / |/ |/ /  __/ /    \n",
            "/_____/\\____/|__/|__/\\___/_/     \n",
            "\n",
            "Shakira a Musician from Colombia\n",
            "Compare A: None.\n",
            "\n",
            " _    __    \n",
            "| |  / /____\n",
            "| | / / ___/\n",
            "| |/ (__  ) \n",
            "|___/____(_)\n",
            "\n",
            "Justin Bieber a Musician from Canada\n",
            "Against B: None.\n",
            "Who has more followers? Type 'A' or 'B': b\n",
            "\n",
            "    __  ___       __             \n",
            "   / / / (_)___ _/ /_  ___  _____\n",
            "  / /_/ / / __ `/ __ \\/ _ \\/ ___/\n",
            " / __  / / /_/ / / / /  __/ /    \n",
            "/_/ ///_/\\__, /_/ /_/\\___/_/     \n",
            "   / /  /____/_      _____  _____\n",
            "  / /   / __ \\ | /| / / _ \\/ ___/\n",
            " / /___/ /_/ / |/ |/ /  __/ /    \n",
            "/_____/\\____/|__/|__/\\___/_/     \n",
            "\n",
            "Your gues is right!!! Your current score is 1\n",
            "Nike a Sportswear multinational from United States\n",
            "Compare A: None.\n",
            "\n",
            " _    __    \n",
            "| |  / /____\n",
            "| | / / ___/\n",
            "| |/ (__  ) \n",
            "|___/____(_)\n",
            "\n",
            "Justin Bieber a Musician from Canada\n",
            "Against B: None.\n",
            "Who has more followers? Type 'A' or 'B': a\n",
            "\n",
            "    __  ___       __             \n",
            "   / / / (_)___ _/ /_  ___  _____\n",
            "  / /_/ / / __ `/ __ \\/ _ \\/ ___/\n",
            " / __  / / /_/ / / / /  __/ /    \n",
            "/_/ ///_/\\__, /_/ /_/\\___/_/     \n",
            "   / /  /____/_      _____  _____\n",
            "  / /   / __ \\ | /| / / _ \\/ ___/\n",
            " / /___/ /_/ / |/ |/ /  __/ /    \n",
            "/_____/\\____/|__/|__/\\___/_/     \n",
            "\n",
            "That's a wrong answer. You lost. YOur final score is 1\n"
          ]
        }
      ],
      "source": [
        "import random\n",
        "\n",
        "#logo\n",
        "logo = \"\"\"\n",
        "    __  ___       __\n",
        "   / / / (_)___ _/ /_  ___  _____\n",
        "  / /_/ / / __ `/ __ \\/ _ \\/ ___/\n",
        " / __  / / /_/ / / / /  __/ /\n",
        "/_/ ///_/\\__, /_/ /_/\\___/_/\n",
        "   / /  /____/_      _____  _____\n",
        "  / /   / __ \\ | /| / / _ \\/ ___/\n",
        " / /___/ /_/ / |/ |/ /  __/ /\n",
        "/_____/\\____/|__/|__/\\___/_/\n",
        "\"\"\"\n",
        "\n",
        "vs = \"\"\"\n",
        " _    __\n",
        "| |  / /____\n",
        "| | / / ___/\n",
        "| |/ (__  )\n",
        "|___/____(_)\n",
        "\"\"\"\n",
        "\n",
        "# data for the game\n",
        "data = [\n",
        "    {\n",
        "        'name': 'Instagram',\n",
        "        'follower_count': 346,\n",
        "        'description': 'Social media platform',\n",
        "        'country': 'United States'\n",
        "    },\n",
        "    {\n",
        "        'name': 'Cristiano Ronaldo',\n",
        "        'follower_count': 215,\n",
        "        'description': 'Footballer',\n",
        "        'country': 'Portugal'\n",
        "    },\n",
        "    {\n",
        "        'name': 'Ariana Grande',\n",
        "        'follower_count': 183,\n",
        "        'description': 'Musician and actress',\n",
        "        'country': 'United States'\n",
        "    },\n",
        "    {\n",
        "        'name': 'Dwayne Johnson',\n",
        "        'follower_count': 181,\n",
        "        'description': 'Actor and professional wrestler',\n",
        "        'country': 'United States'\n",
        "    },\n",
        "    {\n",
        "        'name': 'Selena Gomez',\n",
        "        'follower_count': 174,\n",
        "        'description': 'Musician and actress',\n",
        "        'country': 'United States'\n",
        "    },\n",
        "    {\n",
        "        'name': 'Kylie Jenner',\n",
        "        'follower_count': 172,\n",
        "        'description': 'Reality TV personality and businesswoman and Self-Made Billionaire',\n",
        "        'country': 'United States'\n",
        "    },\n",
        "    {\n",
        "        'name': 'Kim Kardashian',\n",
        "        'follower_count': 167,\n",
        "        'description': 'Reality TV personality and businesswoman',\n",
        "        'country': 'United States'\n",
        "    },\n",
        "    {\n",
        "        'name': 'Lionel Messi',\n",
        "        'follower_count': 149,\n",
        "        'description': 'Footballer',\n",
        "        'country': 'Argentina'\n",
        "    },\n",
        "    {\n",
        "        'name': 'Beyoncé',\n",
        "        'follower_count': 145,\n",
        "        'description': 'Musician',\n",
        "        'country': 'United States'\n",
        "    },\n",
        "    {\n",
        "        'name': 'Neymar',\n",
        "        'follower_count': 138,\n",
        "        'description': 'Footballer',\n",
        "        'country': 'Brasil'\n",
        "    },\n",
        "    {\n",
        "        'name': 'National Geographic',\n",
        "        'follower_count': 135,\n",
        "        'description': 'Magazine',\n",
        "        'country': 'United States'\n",
        "    },\n",
        "    {\n",
        "        'name': 'Justin Bieber',\n",
        "        'follower_count': 133,\n",
        "        'description': 'Musician',\n",
        "        'country': 'Canada'\n",
        "    },\n",
        "    {\n",
        "        'name': 'Taylor Swift',\n",
        "        'follower_count': 131,\n",
        "        'description': 'Musician',\n",
        "        'country': 'United States'\n",
        "    },\n",
        "    {\n",
        "        'name': 'Kendall Jenner',\n",
        "        'follower_count': 127,\n",
        "        'description': 'Reality TV personality and Model',\n",
        "        'country': 'United States'\n",
        "    },\n",
        "    {\n",
        "        'name': 'Jennifer Lopez',\n",
        "        'follower_count': 119,\n",
        "        'description': 'Musician and actress',\n",
        "        'country': 'United States'\n",
        "    },\n",
        "    {\n",
        "        'name': 'Nicki Minaj',\n",
        "        'follower_count': 113,\n",
        "        'description': 'Musician',\n",
        "        'country': 'Trinidad and Tobago'\n",
        "    },\n",
        "    {\n",
        "        'name': 'Nike',\n",
        "        'follower_count': 109,\n",
        "        'description': 'Sportswear multinational',\n",
        "        'country': 'United States'\n",
        "    },\n",
        "    {\n",
        "        'name': 'Khloé Kardashian',\n",
        "        'follower_count': 108,\n",
        "        'description': 'Reality TV personality and businesswoman',\n",
        "        'country': 'United States'\n",
        "    },\n",
        "    {\n",
        "        'name': 'Miley Cyrus',\n",
        "        'follower_count': 107,\n",
        "        'description': 'Musician and actress',\n",
        "        'country': 'United States'\n",
        "    },\n",
        "    {\n",
        "        'name': 'Katy Perry',\n",
        "        'follower_count': 94,\n",
        "        'description': 'Musician',\n",
        "        'country': 'United States'\n",
        "    },\n",
        "    {\n",
        "        'name': 'Kourtney Kardashian',\n",
        "        'follower_count': 90,\n",
        "        'description': 'Reality TV personality',\n",
        "        'country': 'United States'\n",
        "    },\n",
        "    {\n",
        "        'name': 'Kevin Hart',\n",
        "        'follower_count': 89,\n",
        "        'description': 'Comedian and actor',\n",
        "        'country': 'United States'\n",
        "    },\n",
        "    {\n",
        "        'name': 'Ellen DeGeneres',\n",
        "        'follower_count': 87,\n",
        "        'description': 'Comedian',\n",
        "        'country': 'United States'\n",
        "    },\n",
        "    {\n",
        "        'name': 'Real Madrid CF',\n",
        "        'follower_count': 86,\n",
        "        'description': 'Football club',\n",
        "        'country': 'Spain'\n",
        "    },\n",
        "    {\n",
        "        'name': 'FC Barcelona',\n",
        "        'follower_count': 85,\n",
        "        'description': 'Football club',\n",
        "        'country': 'Spain'\n",
        "    },\n",
        "    {\n",
        "        'name': 'Rihanna',\n",
        "        'follower_count': 81,\n",
        "        'description': 'Musician and businesswoman',\n",
        "        'country': 'Barbados'\n",
        "    },\n",
        "    {\n",
        "        'name': 'Demi Lovato',\n",
        "        'follower_count': 80,\n",
        "        'description': 'Musician and actress',\n",
        "        'country': 'United States'\n",
        "    },\n",
        "    {\n",
        "        'name': \"Victoria's Secret\",\n",
        "        'follower_count': 69,\n",
        "        'description': 'Lingerie brand',\n",
        "        'country': 'United States'\n",
        "    },\n",
        "    {\n",
        "        'name': 'Zendaya',\n",
        "        'follower_count': 68,\n",
        "        'description': 'Actress and musician',\n",
        "        'country': 'United States'\n",
        "    },\n",
        "    {\n",
        "        'name': 'Shakira',\n",
        "        'follower_count': 66,\n",
        "        'description': 'Musician',\n",
        "        'country': 'Colombia'\n",
        "    },\n",
        "    {\n",
        "        'name': 'Drake',\n",
        "        'follower_count': 65,\n",
        "        'description': 'Musician',\n",
        "        'country': 'Canada'\n",
        "    },\n",
        "    {\n",
        "        'name': 'Chris Brown',\n",
        "        'follower_count': 64,\n",
        "        'description': 'Musician',\n",
        "        'country': 'United States'\n",
        "    },\n",
        "    {\n",
        "        'name': 'LeBron James',\n",
        "        'follower_count': 63,\n",
        "        'description': 'Basketball player',\n",
        "        'country': 'United States'\n",
        "    },\n",
        "    {\n",
        "        'name': 'Vin Diesel',\n",
        "        'follower_count': 62,\n",
        "        'description': 'Actor',\n",
        "        'country': 'United States'\n",
        "    },\n",
        "    {\n",
        "        'name': 'Cardi B',\n",
        "        'follower_count': 67,\n",
        "        'description': 'Musician',\n",
        "        'country': 'United States'\n",
        "    },\n",
        "    {\n",
        "        'name': 'David Beckham',\n",
        "        'follower_count': 82,\n",
        "        'description': 'Footballer',\n",
        "        'country': 'United Kingdom'\n",
        "    },\n",
        "    {\n",
        "        'name': 'Billie Eilish',\n",
        "        'follower_count': 61,\n",
        "        'description': 'Musician',\n",
        "        'country': 'United States'\n",
        "    },\n",
        "    {\n",
        "        'name': 'Justin Timberlake',\n",
        "        'follower_count': 59,\n",
        "        'description': 'Musician and actor',\n",
        "        'country': 'United States'\n",
        "    },\n",
        "    {\n",
        "        'name': 'UEFA Champions League',\n",
        "        'follower_count': 58,\n",
        "        'description': 'Club football competition',\n",
        "        'country': 'Europe'\n",
        "    },\n",
        "    {\n",
        "        'name': 'NASA',\n",
        "        'follower_count': 56,\n",
        "        'description': 'Space agency',\n",
        "        'country': 'United States'\n",
        "    },\n",
        "    {\n",
        "        'name': 'Emma Watson',\n",
        "        'follower_count': 56,\n",
        "        'description': 'Actress',\n",
        "        'country': 'United Kingdom'\n",
        "    },\n",
        "    {\n",
        "        'name': 'Shawn Mendes',\n",
        "        'follower_count': 57,\n",
        "        'description': 'Musician',\n",
        "        'country': 'Canada'\n",
        "    },\n",
        "    {\n",
        "        'name': 'Virat Kohli',\n",
        "        'follower_count': 55,\n",
        "        'description': 'Cricketer',\n",
        "        'country': 'India'\n",
        "    },\n",
        "    {\n",
        "        'name': 'Gigi Hadid',\n",
        "        'follower_count': 54,\n",
        "        'description': 'Model',\n",
        "        'country': 'United States'\n",
        "    },\n",
        "    {\n",
        "        'name': 'Priyanka Chopra Jonas',\n",
        "        'follower_count': 53,\n",
        "        'description': 'Actress and musician',\n",
        "        'country': 'India'\n",
        "    },\n",
        "    {\n",
        "        'name': '9GAG',\n",
        "        'follower_count': 52,\n",
        "        'description': 'Social media platform',\n",
        "        'country': 'China'\n",
        "    },\n",
        "    {\n",
        "        'name': 'Ronaldinho',\n",
        "        'follower_count': 51,\n",
        "        'description': 'Footballer',\n",
        "        'country': 'Brasil'\n",
        "    },\n",
        "    {\n",
        "        'name': 'Maluma',\n",
        "        'follower_count': 50,\n",
        "        'description': 'Musician',\n",
        "        'country': 'Colombia'\n",
        "    },\n",
        "    {\n",
        "        'name': 'Camila Cabello',\n",
        "        'follower_count': 49,\n",
        "        'description': 'Musician',\n",
        "        'country': 'Cuba'\n",
        "    },\n",
        "    {\n",
        "        'name': 'NBA',\n",
        "        'follower_count': 47,\n",
        "        'description': 'Club Basketball Competition',\n",
        "        'country': 'United States'\n",
        "    }\n",
        "]\n",
        "\n",
        "# to get a random account information\n",
        "def get_random_account():\n",
        "  return random.choice(data)\n",
        "\n",
        "#define a function for the account\n",
        "def format_data(account):\n",
        "  account_name = account[\"name\"]\n",
        "  account_country = account[\"country\"]\n",
        "  account_des = account[\"description\"]\n",
        "  #print the data\n",
        "  print(f\"{account_name} a {account_des} from {account_country}\")\n",
        "\n",
        "def check_answer(guess,a_followers,b_followers):\n",
        "  ''' checks the followers against user's guess if right\n",
        "  returns true else false'''\n",
        "  if a_followers > b_followers:\n",
        "    return guess == \"a\"\n",
        "  else:\n",
        "     return guess == \"b\"\n",
        "\n",
        "# function to define how the game works\n",
        "def game():\n",
        "  print(logo)\n",
        "  score = 0 #initiate the game with 0 score\n",
        "  game_should_continue  = True  # for the while loop to keep running\n",
        "  # for choosing random accounts from the list\n",
        "  account_a = get_random_account()\n",
        "  account_b = get_random_account()\n",
        "\n",
        "\n",
        "  # while loop\n",
        "  while game_should_continue:\n",
        "    account_a = account_b # the user's guess is right so we are going to continue keeping the correct guess\n",
        "    account_b = get_random_account() # choose a random account\n",
        "\n",
        "    while account_a == account_b: # when both accountsa are same choose another account\n",
        "      account_b = get_random_account()\n",
        "\n",
        "\n",
        "      print(f\"Compare A: {format_data(account_a)}.\")\n",
        "      print(vs)\n",
        "      print(f\"Against B: {format_data(account_b)}.\")\n",
        "\n",
        "      # let's get the user's guess\n",
        "      guess = input(\"Who has more followers? Type 'A' or 'B': \").lower() #convert to lower case, we use lowercasse in check_answer\n",
        "\n",
        "      #followers count\n",
        "      a_followers_count = account_a[\"follower_count\"] # from the data we access\n",
        "      b_followers_count = account_b[\"follower_count\"]\n",
        "\n",
        "      # check if guess right or wrong\n",
        "      is_correct = check_answer(guess, a_followers_count,b_followers_count)\n",
        "\n",
        "\n",
        "      #print the logo\n",
        "      print(logo)\n",
        "\n",
        "      if is_correct:# if the guess is correct\n",
        "        score += 1 # increase the score by 1\n",
        "        print(f\"Your gues is right!!! Your current score is {score}\")\n",
        "\n",
        "      else: # terminate the game and display the final score\n",
        "        game_should_continue = False # terminate the while loop\n",
        "        print(f\"That's a wrong answer. You lost. YOur final score is {score}\")\n",
        "\n",
        "#call the game fucntion\n",
        "game()"
      ]
    },
    {
      "cell_type": "markdown",
      "metadata": {
        "id": "gz-znrdPqM-H"
      },
      "source": [
        "Coffee Machine"
      ]
    },
    {
      "cell_type": "code",
      "execution_count": null,
      "metadata": {
        "colab": {
          "base_uri": "https://localhost:8080/"
        },
        "id": "TEl4vW3EZILT",
        "outputId": "84d0b844-8b4b-4767-a2a0-f25a1d20d07e"
      },
      "outputs": [
        {
          "name": "stdout",
          "output_type": "stream",
          "text": [
            "What would you like to have? (espresso/latte/cappuccino): latte\n",
            "Please insert coins\n",
            "How many quarters?: 50\n",
            "How many dimes? : 20\n",
            "How many nickles?: 120\n",
            "How many pennies?: 0\n",
            "Hers is the $18.0\n",
            "Here's your latte.  have a great day\n",
            "What would you like to have? (espresso/latte/cappuccino): off\n"
          ]
        }
      ],
      "source": [
        "# menu and resources dictionaries\n",
        "MENU = {\n",
        "    \"espresso\": {\n",
        "        \"ingredients\": {\n",
        "            \"water\": 50,\n",
        "            \"coffee\": 18,\n",
        "        },\n",
        "        \"cost\": 1.5,\n",
        "    },\n",
        "    \"latte\": {\n",
        "        \"ingredients\": {\n",
        "            \"water\": 200,\n",
        "            \"milk\": 150,\n",
        "            \"coffee\": 24,\n",
        "        },\n",
        "        \"cost\": 2.5,\n",
        "    },\n",
        "    \"cappuccino\": {\n",
        "        \"ingredients\": {\n",
        "            \"water\": 250,\n",
        "            \"milk\": 100,\n",
        "            \"coffee\": 24,\n",
        "        },\n",
        "        \"cost\": 3.0,\n",
        "    }\n",
        "}\n",
        "\n",
        "profit = 0\n",
        "resources = {\n",
        "    \"water\": 300,\n",
        "    \"milk\": 200,\n",
        "    \"coffee\": 100,\n",
        "}\n",
        "\n",
        "\n",
        "#define a function to see if resources are sufficient\n",
        "def is_resources_sufficient(order_ingredients):\n",
        "  #returns true is ingredients sufficient else false\n",
        "  for item in order_ingredients:\n",
        "    if order_ingredients[item] > resources[item]:\n",
        "      print(f\"Sorry there is not enough {item}\")\n",
        "      return False\n",
        "\n",
        "  return True\n",
        "\n",
        "\n",
        "#to calculate total coins inserted\n",
        "def process_coins():\n",
        "  print(\"Please insert coins\")\n",
        "  total = int(input(\"How many quarters?: \")) * 0.25  # quarters to dollars\n",
        "  total += int(input(\"How many dimes? : \")) * 0.1 # add dimes after converting to dollars\n",
        "  total += int(input(\"How many nickles?: \")) * 0.05 # add nickles after converting to dollars\n",
        "  total += int(input(\"How many pennies?: \")) * 0.01 # add pennies after converting to dollars\n",
        "  return total # retutn the total no.of coins\n",
        "\n",
        "\n",
        "#function if the amount is accepted and transaction is successful or not\n",
        "def is_transaction_successful(money_received,drink_cost):\n",
        "  if money_received >= drink_cost:\n",
        "    change = round(money_received - drink_cost, 2 ) # round the change to two decimal point\n",
        "    print(f\"Hers is the ${change}\")\n",
        "    global profit # take the global variable and sue it here\n",
        "    profit += drink_cost\n",
        "    return True # transcationa successfulv\n",
        "\n",
        "  else:\n",
        "    print(f\"Sorry. There's no enough money, so refunded\")\n",
        "    return False # transaction failed\n",
        "\n",
        "\n",
        "# deduct ingredients to make coffee\n",
        "def make_coffee(drink_name,order_ingredients):\n",
        "  for item in order_ingredients:\n",
        "    resources[item]  -= order_ingredients[item] # reducing the item in resource after each order\n",
        "  print(f\"Here's your {drink_name}.  have a great day\")\n",
        "\n",
        "\n",
        "\n",
        "#let's define while loop so that the machine runs till the ingredients get over\n",
        "is_on = True\n",
        "\n",
        "while is_on:\n",
        "  choice = input(\"What would you like to have? (espresso/latte/cappuccino): \")\n",
        "  if choice == \"off\":\n",
        "    is_on = False # if the customer doesn't want anything\n",
        "  elif choice == \"report\": # to let know the machine which resource is not there\n",
        "\n",
        "     print(f\"Water: {resources['water']}ml\")\n",
        "     print(f\"Milk: {resources['milk']}ml\")\n",
        "     print(f\"Coffee: {resources['coffee']}g\")\n",
        "     print(f\"Money: ${profit}\")\n",
        "\n",
        "  else:\n",
        "        drink = MENU[choice]\n",
        "        if is_resources_sufficient(drink[\"ingredients\"]): # if resources sufficient make the drink\n",
        "            payment = process_coins()\n",
        "            if is_transaction_successful(payment, drink[\"cost\"]): # process the coin to see if sufficient coins are given\n",
        "                make_coffee(choice, drink[\"ingredients\"])\n",
        "\n",
        "\n"
      ]
    },
    {
      "cell_type": "markdown",
      "metadata": {
        "id": "LlRDslxPRR1J"
      },
      "source": [
        "Coffee maker using class"
      ]
    },
    {
      "cell_type": "code",
      "execution_count": null,
      "metadata": {
        "colab": {
          "base_uri": "https://localhost:8080/"
        },
        "id": "ZEorNEpe0R-8",
        "outputId": "59503c53-2fa6-4612-cad0-d440b999bc97"
      },
      "outputs": [
        {
          "name": "stdout",
          "output_type": "stream",
          "text": [
            "What would you like? Choose between espresso, latte or cappuccino: espresso\n",
            "Please insert the coins\n",
            "How many quarters?: 40\n",
            "How many dimes?: 120\n",
            "How many nickles?: 50\n",
            "How many pennies?: 100\n",
            "Here's the change $24.0\n",
            "Here is your espresso. Enjoy!\n",
            "What would you like? Choose between espresso, latte or cappuccino: off\n",
            "Have a good one!\n"
          ]
        }
      ],
      "source": [
        "#let's create the menu class\n",
        "class MenuItem: # models each menu item\n",
        "  def __init__(self,name,water,milk,coffee,cost): # initializes a menuitem object with name,cost,and dictionary of ingredients\n",
        "    self.name = name\n",
        "    self.cost = cost\n",
        "    self.ingredients = {\n",
        "        \"milk\": milk,\n",
        "        \"water\": water,\n",
        "        \"coffee\" : coffee,\n",
        "    }\n",
        "\n",
        "# models menu which holds various drinks\n",
        "class Menu:\n",
        "  def __init__(self):\n",
        "    self.menu = [\n",
        "        MenuItem(name=\"latte\", water=200, milk=150, coffee=24, cost=2.5),\n",
        "        MenuItem(name=\"espresso\", water=50, milk=0, coffee=18, cost=1.5),\n",
        "        MenuItem(name=\"cappuccino\", water=250, milk=50, coffee=24, cost=3),\n",
        "\n",
        "    ]\n",
        "\n",
        "\n",
        "  def get_items(self): # returns all the items on the menu items\n",
        "    options = \"\"\n",
        "    for item in self.menu: #iterates through all menu objects in the menu list\n",
        "      options += f\"{item.name}/\" #concatenates with / (latte/cappucino/espresso)\n",
        "    return options\n",
        "\n",
        "  def find_drink(self,order_name):#searches the list for a particular drink if exits returns that else none\n",
        "    for item in self.menu:\n",
        "      if item.name == order_name:\n",
        "        return item\n",
        "    print(\"Sorry item is not available\")\n",
        "\n",
        "\n",
        "class CoffeeMaker(): # models a machine to make coffee\n",
        "  def __init__(self): # initializes the coffee machine with the ingredients\n",
        "    self.resources = {\n",
        "        \"water\": 300,\n",
        "        \"milk\": 200,\n",
        "        \"coffee\": 100,\n",
        "    }\n",
        "\n",
        "  def report(self): # reports the resouces available\n",
        "    print(f\"Water: {self.resources['water']}ml\")\n",
        "    print(f\"Milk: {self.resources['milk']}ml\")\n",
        "    print(f\"Coffee: {self.resources['coffee']}g\")\n",
        "\n",
        "  def is_resource_sufficient(self,drink): # returns True if ingredients sufficient else False\n",
        "    can_make = True\n",
        "    for item in drink.ingredients:\n",
        "      if drink.ingredients[item] > self.resources[item]: # if resources insufficent to make the drink\n",
        "            print(f\"Sorry there is not enough {item}.\") # diaplys the item that isn't sufficient\n",
        "            can_make = False\n",
        "    return can_make\n",
        "\n",
        "  def make_coffee(self, order): # makes coffee by deducting the ingredients\n",
        "    for item in order.ingredients:\n",
        "        self.resources[item] -= order.ingredients[item] # reduces the ingredients from resources\n",
        "    print(f\"Here is your {order.name}. Enjoy!\")\n",
        "\n",
        "\n",
        "\n",
        "class MoneyMachine: # manages the coins inserted, sees if the money is sufficients, changes to be retuned and profits\n",
        "\n",
        "  CURRENCY = \"$\"# this is a class variable, symbol for currency\n",
        "\n",
        "  COIN_VALUES = {\n",
        "    \"quarters\": 0.25,\n",
        "    \"dimes\": 0.10,\n",
        "    \"nickles\": 0.05,\n",
        "    \"pennies\": 0.01\n",
        "} # a dictionary specifying th values in dollars\n",
        "\n",
        "  def __init__(self):\n",
        "    self.profit = 0 # keeps track of profit\n",
        "    self.money_received = 0 # keeps track of money received\n",
        "\n",
        "\n",
        "  def report(self): #to report the profit\n",
        "    print(f\"Money: {self.CURRENCY}{self.profit}\") #format Money: $(profit)\n",
        "\n",
        "\n",
        "  def process_coins(self): # process the coins inserted\n",
        "    print(\"Please insert the coins\")\n",
        "    for coin in self.COIN_VALUES: # iterates in the coin value dictionary\n",
        "      self.money_received += int(input(f\"How many {coin}?: \")) * self.COIN_VALUES[coin] # gets the input for how many coins of each type\n",
        "    return self.money_received\n",
        "\n",
        "  def make_payment(self,cost):\n",
        "    self.process_coins() # ask the user to insert coins '\n",
        "    if self.money_received >=  cost: # to check if to return change\n",
        "      change = round(self.money_received - cost,2) # rounds the value to 2 decimal points\n",
        "      print(f\"Here's the change {self.CURRENCY}{change}\")\n",
        "      self.profit += cost # add the cost to profit\n",
        "      self.money_received = 0 # reset the value for next user\n",
        "      return True # transaction successful\n",
        "\n",
        "    else:\n",
        "      print(f\"Sorry not enough money for the drink. Money refunded\")\n",
        "      self.money_received = 0 # reset the value\n",
        "      return False # transaction failed\n",
        "\n",
        "\n",
        "espresso = MenuItem(\"espresso\", 50, 0, 18, 1.5)\n",
        "latte = MenuItem(\"latte\", 200, 150, 24, 2.5)\n",
        "cappuccino = MenuItem(\"cappuccino\", 250, 100, 24, 3.0)\n",
        "\n",
        "\n",
        "menu = Menu() # this class holds get items and find drink\n",
        "coffee_maker = CoffeeMaker() # resource tracking and making coffee\n",
        "money_machine = MoneyMachine() # to process the coins and return profit\n",
        "\n",
        "# let's run the coffee maachine\n",
        "on = True\n",
        "while on:\n",
        "  choice = input(f\"What would you like? Choose between espresso, latte or cappuccino: \") # input choice from the user\n",
        "  if choice == \"off\":\n",
        "    print(\"Have a good one!\")\n",
        "    on = False # turn off the machine\n",
        "\n",
        "  elif choice == \"report\": # if the user wants to see the report\n",
        "    coffee_make.report() # remaning ingredients\n",
        "    money_machine.report() # total earnings\n",
        "\n",
        "  else: # the drink will be processsed\n",
        "    coffee_choice = menu.find_drink(choice) # searches for the coffee , if choice not present returns none\n",
        "    # checks if there are enough ingredients and the coins inserted are sufficient returns true in both cases\n",
        "    if coffee_maker.is_resource_sufficient(coffee_choice) and money_machine.make_payment(coffee_choice.cost):\n",
        "      coffee_maker.make_coffee(coffee_choice) # makes coffee\n"
      ]
    },
    {
      "cell_type": "markdown",
      "metadata": {
        "id": "n6T-E_zWiEIM"
      },
      "source": [
        "The Quiz Project & The Benefits of OOP"
      ]
    },
    {
      "cell_type": "code",
      "execution_count": null,
      "metadata": {
        "colab": {
          "base_uri": "https://localhost:8080/"
        },
        "id": "lvxRoYTaCJyR",
        "outputId": "49abaf1d-cd53-461b-a4f8-afdff7ae10df"
      },
      "outputs": [
        {
          "name": "stdout",
          "output_type": "stream",
          "text": [
            "Q.1: A slug's blood is green. (True/False)True\n",
            "You have got the right answer!\n",
            "The correct answer was True\n",
            "Your current score is 1/1.\n",
            "\n",
            "\n",
            "Q.2: The loudest animal is the African Elephant. (True/False)false\n",
            "You have got the right answer!\n",
            "The correct answer was False\n",
            "Your current score is 2/2.\n",
            "\n",
            "\n",
            "Q.3: Approximately one quarter of human bones are in the feet. (True/False)true \n",
            "That's incorrect\n",
            "The correct answer was True\n",
            "Your current score is 2/3.\n",
            "\n",
            "\n",
            "Q.4: The total surface area of a human lungs is the size of a football pitch. (True/False)false\n",
            "That's incorrect\n",
            "The correct answer was True\n",
            "Your current score is 2/4.\n",
            "\n",
            "\n",
            "Q.5: In West Virginia, USA, if you accidentally hit an animal with your car, you are free to take it home to eat. (True/False)true\n",
            "You have got the right answer!\n",
            "The correct answer was True\n",
            "Your current score is 3/5.\n",
            "\n",
            "\n",
            "Q.6: In London, UK, if you happen to die in the House of Parliament, you are entitled to a state funeral. (True/False)true \n",
            "That's incorrect\n",
            "The correct answer was False\n",
            "Your current score is 3/6.\n",
            "\n",
            "\n",
            "Q.7: It is illegal to pee in the Ocean in Portugal. (True/False)true \n",
            "That's incorrect\n",
            "The correct answer was True\n",
            "Your current score is 3/7.\n",
            "\n",
            "\n",
            "Q.8: You can lead a cow down stairs but not up stairs. (True/False)true \n",
            "That's incorrect\n",
            "The correct answer was False\n",
            "Your current score is 3/8.\n",
            "\n",
            "\n",
            "Q.9: Google was originally called 'Backrub'. (True/False)false\n",
            "That's incorrect\n",
            "The correct answer was True\n",
            "Your current score is 3/9.\n",
            "\n",
            "\n",
            "Q.10: Buzz Aldrin's mother's maiden name was 'Moon'. (True/False)true\n",
            "You have got the right answer!\n",
            "The correct answer was True\n",
            "Your current score is 4/10.\n",
            "\n",
            "\n",
            "Q.11: No piece of square dry paper can be folded in half more than 7 times. (True/False)true \n",
            "That's incorrect\n",
            "The correct answer was False\n",
            "Your current score is 4/11.\n",
            "\n",
            "\n",
            "Q.12: A few ounces of chocolate can to kill a small dog. (True/False)false \n",
            "That's incorrect\n",
            "The correct answer was True\n",
            "Your current score is 4/12.\n",
            "\n",
            "\n",
            "Thanks for completing that!\n",
            "Your final score is: 4/12\n"
          ]
        }
      ],
      "source": [
        "question_data = [\n",
        "    {\"text\": \"A slug's blood is green.\", \"answer\": \"True\"},\n",
        "    {\"text\": \"The loudest animal is the African Elephant.\", \"answer\": \"False\"},\n",
        "    {\"text\": \"Approximately one quarter of human bones are in the feet.\", \"answer\": \"True\"},\n",
        "    {\"text\": \"The total surface area of a human lungs is the size of a football pitch.\", \"answer\": \"True\"},\n",
        "    {\"text\": \"In West Virginia, USA, if you accidentally hit an animal with your car, you are free to take it home \"\n",
        "             \"to eat.\", \"answer\": \"True\"},\n",
        "    {\"text\": \"In London, UK, if you happen to die in the House of Parliament, you are entitled to a state funeral.\"\n",
        "        , \"answer\": \"False\"},\n",
        "    {\"text\": \"It is illegal to pee in the Ocean in Portugal.\", \"answer\": \"True\"},\n",
        "    {\"text\": \"You can lead a cow down stairs but not up stairs.\", \"answer\": \"False\"},\n",
        "    {\"text\": \"Google was originally called 'Backrub'.\", \"answer\": \"True\"},\n",
        "    {\"text\": \"Buzz Aldrin's mother's maiden name was 'Moon'.\", \"answer\": \"True\"},\n",
        "    {\"text\": \"No piece of square dry paper can be folded in half more than 7 times.\", \"answer\": \"False\"},\n",
        "    {\"text\": \"A few ounces of chocolate can to kill a small dog.\", \"answer\": \"True\"}\n",
        "] # data for the game\n",
        "\n",
        "# model a class for question\n",
        "class Question:\n",
        "  def __init__(self,text,answer): # initialize the class with variables text and answer\n",
        "    self.text = text\n",
        "    self.answer = answer\n",
        "\n",
        "\n",
        "class QuizBrain: # for the game to check answers, update scores\n",
        "  def __init__(self,question_list): #initialize with the question list\n",
        "    self.question_number = 0 # set default value for the question number that is the quiz starts with the first question in the list and then goes on\n",
        "    self.question_list = question_list\n",
        "    self.score = 0 # while starting the game it's zero\n",
        "\n",
        "\n",
        "  def still_has_question(self): # to see if the still has remaining questions\n",
        "    return self.question_number < len(self.question_list) # returns if there are questions else False\n",
        "\n",
        "\n",
        "  def next_question(self):\n",
        "    current_question = self.question_list[self.question_number] #fetch the current question\n",
        "    self.question_number += 1 # move to the next question\n",
        "    user_answer = input(f\"Q.{self.question_number}: {current_question.text} (True/False)\") #input from user\n",
        "     # Pass the user_answer to check_answer\n",
        "    self.check_answer(user_answer,current_question.answer) #check if answer is correct\n",
        "\n",
        "\n",
        "  def check_answer(self,user_answer,correct_answer):\n",
        "    if user_answer.lower() == correct_answer.lower(): # check the answer with list answer\n",
        "      print(\"You have got the right answer!\")\n",
        "      self.score += 1 # if right increase score by 1\n",
        "\n",
        "    else:\n",
        "      print(\"That's incorrect\")\n",
        "\n",
        "    print(f\"The correct answer was {correct_answer}\") # show the right answer\n",
        "    print(f\"Your current score is {self.score}/{self.question_number}.\") #Displays the current score in score/question_number format.\n",
        "    print(\"\\n\")\n",
        "\n",
        "\n",
        "question_bank = [] # empty list to store questions\n",
        "for question in question_data: #iterate through the question_date and extract the text and answers\n",
        "  question_text = question[\"text\"]\n",
        "  question_answer = question[\"answer\"]\n",
        "  new_question = Question(question_text,question_answer) # creat new_question object from extracted data\n",
        "  question_bank.append(new_question) # add questions to the list  touse in the class quiz brain\n",
        "\n",
        "quiz = QuizBrain(question_bank) #initialize the class with the question_list\n",
        "\n",
        "while quiz.still_has_question(): # loop until no questions left\n",
        "  quiz.next_question()\n",
        "\n",
        "\n",
        "print(f\"Thanks for completing that!\\nYour final score is: {quiz.score}/{quiz.question_number}\")\n"
      ]
    },
    {
      "cell_type": "markdown",
      "metadata": {
        "id": "xC61u-C4_ReE"
      },
      "source": [
        "Turtle & the Graphical User Interface (GUI) (Refer to jupyter for the graphics output)"
      ]
    },
    {
      "cell_type": "code",
      "execution_count": null,
      "metadata": {
        "colab": {
          "base_uri": "https://localhost:8080/"
        },
        "id": "6SNTckeX_QuF",
        "outputId": "61ee88a1-3c42-496d-a2d1-c35b225f0953"
      },
      "outputs": [
        {
          "metadata": {
            "tags": null
          },
          "name": "stdout",
          "output_type": "stream",
          "text": [
            "Reading package lists... Done\n",
            "Building dependency tree... Done\n",
            "Reading state information... Done\n",
            "python3-tk is already the newest version (3.10.8-1~22.04).\n",
            "0 upgraded, 0 newly installed, 0 to remove and 29 not upgraded.\n",
            "Reading package lists... Done\n",
            "Building dependency tree... Done\n",
            "Reading state information... Done\n",
            "The following additional packages will be installed:\n",
            "  libfontenc1 libxfont2 libxkbfile1 x11-xkb-utils xfonts-base xfonts-encodings xfonts-utils\n",
            "  xserver-common\n",
            "The following NEW packages will be installed:\n",
            "  libfontenc1 libxfont2 libxkbfile1 x11-xkb-utils xfonts-base xfonts-encodings xfonts-utils\n",
            "  xserver-common xvfb\n",
            "0 upgraded, 9 newly installed, 0 to remove and 29 not upgraded.\n",
            "Need to get 7,814 kB of archives.\n",
            "After this operation, 12.0 MB of additional disk space will be used.\n",
            "Get:1 http://archive.ubuntu.com/ubuntu jammy/main amd64 libfontenc1 amd64 1:1.1.4-1build3 [14.7 kB]\n",
            "Get:2 http://archive.ubuntu.com/ubuntu jammy/main amd64 libxfont2 amd64 1:2.0.5-1build1 [94.5 kB]\n",
            "Get:3 http://archive.ubuntu.com/ubuntu jammy/main amd64 libxkbfile1 amd64 1:1.1.0-1build3 [71.8 kB]\n",
            "Get:4 http://archive.ubuntu.com/ubuntu jammy/main amd64 x11-xkb-utils amd64 7.7+5build4 [172 kB]\n",
            "Get:5 http://archive.ubuntu.com/ubuntu jammy/main amd64 xfonts-encodings all 1:1.0.5-0ubuntu2 [578 kB]\n",
            "Get:6 http://archive.ubuntu.com/ubuntu jammy/main amd64 xfonts-utils amd64 1:7.7+6build2 [94.6 kB]\n",
            "Get:7 http://archive.ubuntu.com/ubuntu jammy/main amd64 xfonts-base all 1:1.0.5 [5,896 kB]\n",
            "Get:8 http://archive.ubuntu.com/ubuntu jammy-updates/main amd64 xserver-common all 2:21.1.4-2ubuntu1.7~22.04.13 [29.1 kB]\n",
            "Get:9 http://archive.ubuntu.com/ubuntu jammy-updates/universe amd64 xvfb amd64 2:21.1.4-2ubuntu1.7~22.04.13 [863 kB]\n",
            "Fetched 7,814 kB in 2s (4,204 kB/s)\n",
            "Selecting previously unselected package libfontenc1:amd64.\n",
            "(Reading database ... 126209 files and directories currently installed.)\n",
            "Preparing to unpack .../0-libfontenc1_1%3a1.1.4-1build3_amd64.deb ...\n",
            "Unpacking libfontenc1:amd64 (1:1.1.4-1build3) ...\n",
            "Selecting previously unselected package libxfont2:amd64.\n",
            "Preparing to unpack .../1-libxfont2_1%3a2.0.5-1build1_amd64.deb ...\n",
            "Unpacking libxfont2:amd64 (1:2.0.5-1build1) ...\n",
            "Selecting previously unselected package libxkbfile1:amd64.\n",
            "Preparing to unpack .../2-libxkbfile1_1%3a1.1.0-1build3_amd64.deb ...\n",
            "Unpacking libxkbfile1:amd64 (1:1.1.0-1build3) ...\n",
            "Selecting previously unselected package x11-xkb-utils.\n",
            "Preparing to unpack .../3-x11-xkb-utils_7.7+5build4_amd64.deb ...\n",
            "Unpacking x11-xkb-utils (7.7+5build4) ...\n",
            "Selecting previously unselected package xfonts-encodings.\n",
            "Preparing to unpack .../4-xfonts-encodings_1%3a1.0.5-0ubuntu2_all.deb ...\n",
            "Unpacking xfonts-encodings (1:1.0.5-0ubuntu2) ...\n",
            "Selecting previously unselected package xfonts-utils.\n",
            "Preparing to unpack .../5-xfonts-utils_1%3a7.7+6build2_amd64.deb ...\n",
            "Unpacking xfonts-utils (1:7.7+6build2) ...\n",
            "Selecting previously unselected package xfonts-base.\n",
            "Preparing to unpack .../6-xfonts-base_1%3a1.0.5_all.deb ...\n",
            "Unpacking xfonts-base (1:1.0.5) ...\n",
            "Selecting previously unselected package xserver-common.\n",
            "Preparing to unpack .../7-xserver-common_2%3a21.1.4-2ubuntu1.7~22.04.13_all.deb ...\n",
            "Unpacking xserver-common (2:21.1.4-2ubuntu1.7~22.04.13) ...\n",
            "Selecting previously unselected package xvfb.\n",
            "Preparing to unpack .../8-xvfb_2%3a21.1.4-2ubuntu1.7~22.04.13_amd64.deb ...\n",
            "Unpacking xvfb (2:21.1.4-2ubuntu1.7~22.04.13) ...\n",
            "Setting up libfontenc1:amd64 (1:1.1.4-1build3) ...\n",
            "Setting up xfonts-encodings (1:1.0.5-0ubuntu2) ...\n",
            "Setting up libxkbfile1:amd64 (1:1.1.0-1build3) ...\n",
            "Setting up libxfont2:amd64 (1:2.0.5-1build1) ...\n",
            "Setting up x11-xkb-utils (7.7+5build4) ...\n",
            "Setting up xfonts-utils (1:7.7+6build2) ...\n",
            "Setting up xfonts-base (1:1.0.5) ...\n",
            "Setting up xserver-common (2:21.1.4-2ubuntu1.7~22.04.13) ...\n",
            "Setting up xvfb (2:21.1.4-2ubuntu1.7~22.04.13) ...\n",
            "Processing triggers for man-db (2.10.2-1) ...\n",
            "Processing triggers for fontconfig (2.13.1-4.2ubuntu5) ...\n",
            "Processing triggers for libc-bin (2.35-0ubuntu3.8) ...\n",
            "/sbin/ldconfig.real: /usr/local/lib/libhwloc.so.15 is not a symbolic link\n",
            "\n",
            "/sbin/ldconfig.real: /usr/local/lib/libtcm.so.1 is not a symbolic link\n",
            "\n",
            "/sbin/ldconfig.real: /usr/local/lib/libtbbmalloc_proxy.so.2 is not a symbolic link\n",
            "\n",
            "/sbin/ldconfig.real: /usr/local/lib/libtbbbind_2_0.so.3 is not a symbolic link\n",
            "\n",
            "/sbin/ldconfig.real: /usr/local/lib/libtbbmalloc.so.2 is not a symbolic link\n",
            "\n",
            "/sbin/ldconfig.real: /usr/local/lib/libtbb.so.12 is not a symbolic link\n",
            "\n",
            "/sbin/ldconfig.real: /usr/local/lib/libur_adapter_opencl.so.0 is not a symbolic link\n",
            "\n",
            "/sbin/ldconfig.real: /usr/local/lib/libtbbbind.so.3 is not a symbolic link\n",
            "\n",
            "/sbin/ldconfig.real: /usr/local/lib/libtcm_debug.so.1 is not a symbolic link\n",
            "\n",
            "/sbin/ldconfig.real: /usr/local/lib/libur_adapter_level_zero.so.0 is not a symbolic link\n",
            "\n",
            "/sbin/ldconfig.real: /usr/local/lib/libur_loader.so.0 is not a symbolic link\n",
            "\n",
            "/sbin/ldconfig.real: /usr/local/lib/libumf.so.0 is not a symbolic link\n",
            "\n",
            "/sbin/ldconfig.real: /usr/local/lib/libtbbbind_2_5.so.3 is not a symbolic link\n",
            "\n"
          ]
        }
      ],
      "source": [
        "!apt-get install python3-tk -y\n",
        "!apt-get install -y xvfb\n",
        "import os\n",
        "import time\n",
        "from subprocess import Popen, PIPE\n",
        "\n",
        "# Start virtual display\n",
        "os.system(\"Xvfb :1 -screen 0 1024x768x24 &\")\n",
        "time.sleep(2)  # Wait for Xvfb to start\n",
        "\n",
        "# Set the display environment variable\n",
        "os.environ[\"DISPLAY\"] = \":1.0\"\n",
        "\n",
        "# Now you can run your turtle code normally in Colab\n",
        "import turtle as t\n",
        "import random\n",
        "# create the turtle object\n",
        "t.Turtle() # just created but not stored in a variable so insignificant\n",
        "color_list = [(236, 248, 243), (36, 95, 183), (236, 165, 79), (244, 223, 87), (215, 69, 105), (98, 197, 234),\n",
        "              (250, 51, 22), (203, 70, 21), (240, 106, 143), (185, 47, 90), (143, 233, 216), (252, 136, 166),\n",
        "              (165, 175, 233), (66, 45, 13), (72, 205, 170), (83, 187, 100), (20, 156, 51), (24, 36, 86), (252, 220, 0),\n",
        "              (164, 28, 8), (105, 39, 44), (250, 152, 2), (22, 151, 229), (108, 213, 249), (254, 12, 3), (38, 48, 98),\n",
        "              (98, 96, 186)] # This is a list of RGB color tuples that will be used for drawing colored dots.\n",
        "\n",
        "\n",
        "#configure the turtle\n",
        "random_color = (random.choice(color_list)) # picks random color fro mthe list\n",
        "t.colormode(255) # enabling RGB mode\n",
        "t.penup() # lifts the pen so it doesn't draw while moving\n",
        "t.speed(\"fastest\") # moves the turtle as fast as possible\n",
        "t.hideturtle() # to hide turtle for a cleaner output\n",
        "\n",
        "\n",
        "# fucntions to move the turtle\n",
        "# these fucntions move up a row while alternating directions, so dots drawn in a ziogzag pattern\n",
        "\n",
        "\n",
        "def left_up():\n",
        "  t.setheading(90)\n",
        "  t.forward(50)\n",
        "  t.setheading(0) #moves the turtle up by 50 units and then faces right\n",
        "\n",
        "def right_up():\n",
        "  t.setheading(90)\n",
        "  t.forward(50)\n",
        "  t.setheading(180) # moves the turtle up by 50 units and then faces right\n",
        "\n",
        "\n",
        "#draw the dotted pattern\n",
        "for _ in range(5): # in 5 rows\n",
        "  for _ in range(10): # 10 dots per 10 left to right\n",
        "    t.dot(20,(random.choice(color_list))) # draws a dot with random color\n",
        "    t.setheading(180) #turns left\n",
        "    t.forward(50) # moves left by 50 pixels\n",
        "  left_up() # moves up the next row and faces right\n",
        "\n",
        "  for _ in range(10): #10 dots per row right to left\n",
        "    t.forward(50) # moves right by 50 pixels\n",
        "    t.dot(20,(random.choice(color_list))) # draws a dot with random color\n",
        "  right_up() # moves up and faces left\n",
        "\n",
        "screen = t.Screen() # create a screen for turtle graphics\n",
        "screen.exitonclick() #ensures that the window is kept open until the user clicks\n",
        "\n",
        "# did the same in jupyter and got the graphics\n",
        "\n"
      ]
    },
    {
      "cell_type": "markdown",
      "source": [],
      "metadata": {
        "id": "jNUgCC9aNt3w"
      }
    },
    {
      "cell_type": "code",
      "source": [],
      "metadata": {
        "id": "SfZInhVgNtq6"
      },
      "execution_count": null,
      "outputs": []
    },
    {
      "cell_type": "code",
      "execution_count": null,
      "metadata": {
        "id": "Zo6quufXts3B"
      },
      "outputs": [],
      "source": []
    }
  ],
  "metadata": {
    "colab": {
      "provenance": []
    },
    "kernelspec": {
      "display_name": "Python 3",
      "name": "python3"
    },
    "language_info": {
      "name": "python"
    }
  },
  "nbformat": 4,
  "nbformat_minor": 0
}