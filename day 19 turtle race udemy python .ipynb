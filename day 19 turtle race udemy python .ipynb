{
 "cells": [
  {
   "cell_type": "code",
   "execution_count": 2,
   "id": "d9b441d7-ecfc-446c-a027-4e030c2e85d7",
   "metadata": {},
   "outputs": [],
   "source": [
    "from turtle import Turtle,Screen \n",
    "import random "
   ]
  },
  {
   "cell_type": "code",
   "execution_count": 4,
   "id": "04c9388c-63fd-4e48-8936-6729c6b38966",
   "metadata": {},
   "outputs": [
    {
     "name": "stdout",
     "output_type": "stream",
     "text": [
      "You have won! The red turtle is the winner\n",
      "You have lost! The green turtle is the winner\n"
     ]
    }
   ],
   "source": [
    "is_race_on = True # a variable to control if the race starts \n",
    "screen = Screen() # creates a race window \n",
    "screen.setup(width =500,height = 400) # the size of the window \n",
    "\n",
    "''' opens the pop window for the user to enter their bet''' \n",
    "user_bet = screen.textinput(title=\"Make your bet\", prompt=\"Which color turtle will win the race? Enter a color: \").lower()\n",
    "\n",
    "# list 6 turtle colors \n",
    "colors = [\"red\", \"orange\", \"yellow\", \"green\", \"blue\", \"purple\"]\n",
    "\n",
    "# list of starting points to keep them evenly spaced \n",
    "y_axis = [-100, -60, -20, 20, 60, 100] \n",
    "\n",
    "all_turtles = [] #empty list to store all turtle objects \n",
    "\n",
    "for turtle_number in range(0,6): # loop runs 6 times to create 6 turtles \n",
    "    new_turtle  = Turtle(shape = \"turtle\") #creates a new turtle \n",
    "    new_turtle.penup() # lift's the pen so the turtle doesn't draw \n",
    "    new_turtle.color(colors[turtle_number]) # assign unique color to each turtle \n",
    "    new_turtle.goto(x=-230,y=y_axis[turtle_number]) # position of the turtle \n",
    "    all_turtles.append(new_turtle) # append to the list \n",
    "\n",
    "\n",
    "if user_bet:\n",
    "    is_race_on = True # start the race if the user has placed a bet \n",
    "\n",
    "while is_race_on: \n",
    "    for turtle in all_turtles:\n",
    "        if turtle.xcor() > 230: # check if any turtle has crossed the finish line \n",
    "            winning_turtle = turtle.pencolor() # get the winning turtle color \n",
    "            if winning_turtle == user_bet:\n",
    "                print(f\"You have won! The {winning_turtle} turtle is the winner\")\n",
    "            else:\n",
    "                print(f\"You have lost! The {winning_turtle} turtle is the winner\")\n",
    "            is_race_on = False # stop the race \n",
    "\n",
    "        # Move the turtle randomly\n",
    "        rand_distance = random.randint(0, 10)  \n",
    "        turtle.forward(rand_distance)\n",
    "                \n",
    "screen.exitonclick() # close the window on click   "
   ]
  },
  {
   "cell_type": "code",
   "execution_count": null,
   "id": "f8bb05eb-f97b-4c8f-a104-bc16664a4987",
   "metadata": {},
   "outputs": [],
   "source": []
  },
  {
   "cell_type": "code",
   "execution_count": null,
   "id": "47925f83-7f2c-4a5e-8141-4aca133a417b",
   "metadata": {},
   "outputs": [],
   "source": []
  }
 ],
 "metadata": {
  "kernelspec": {
   "display_name": "Python 3 (ipykernel)",
   "language": "python",
   "name": "python3"
  },
  "language_info": {
   "codemirror_mode": {
    "name": "ipython",
    "version": 3
   },
   "file_extension": ".py",
   "mimetype": "text/x-python",
   "name": "python",
   "nbconvert_exporter": "python",
   "pygments_lexer": "ipython3",
   "version": "3.12.4"
  }
 },
 "nbformat": 4,
 "nbformat_minor": 5
}
