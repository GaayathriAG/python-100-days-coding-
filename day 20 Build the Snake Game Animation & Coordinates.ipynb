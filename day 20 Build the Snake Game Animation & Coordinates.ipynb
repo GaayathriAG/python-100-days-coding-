{
 "cells": [
  {
   "cell_type": "code",
   "execution_count": 7,
   "id": "78fcaaec-475d-4c02-a566-620b21301c5c",
   "metadata": {},
   "outputs": [],
   "source": [
    "from turtle import Screen, Turtle\n",
    "import time "
   ]
  },
  {
   "cell_type": "code",
   "execution_count": 3,
   "id": "551cd42a-6264-4ae0-81dc-d70ddeeeedc3",
   "metadata": {},
   "outputs": [],
   "source": [
    "STARTING_POSITION = [(0,0),(-20,0),(-40,0)] # coordinates for initial positions \n",
    "MOVE_DISTANCE = 20 # the distance for the snake to move forward \n",
    "''' UP(90) -MOVES UP,DOWN (270) - MOVES DOWN \n",
    "LEFT(180) - MOVES LEFT, RIGHT(0) - MOVES RIGHT '''\n",
    "UP = 90\n",
    "DOWN = 270\n",
    "LEFT = 180\n",
    "RIGHT = 0"
   ]
  },
  {
   "cell_type": "code",
   "execution_count": null,
   "id": "fdec30b8-25ba-4cb5-ab25-8dae677d0243",
   "metadata": {},
   "outputs": [],
   "source": [
    "# create a class snake for the movemnt of the snake \n",
    "\n",
    "class Snake:\n",
    "    # initialize the snake \n",
    "    def __init__(self):\n",
    "        self.segments = [] # an empty list the snakes body segments \n",
    "        self.create_snake() # function to create a snake \n",
    "        self.head = self.segments[0] #the first head part of the snake \n",
    "\n",
    "    # lets create the snake\n",
    "    def create_snake(self):\n",
    "        for position in STARTING_POSITION: # iterate through the starting position \n",
    "            new_segment = Turtle(\"square\") # create a square shaped turtle \n",
    "            new_segment.color(\"white\") # set color as white for the snake \n",
    "            new_segment.penup() # prevents from drawing when moving \n",
    "            new_segment.goto(position) # places the segment at the given position \n",
    "            self.segments.append(new_segment) # adds the new segment to the list \n",
    "\n",
    "    # for moving the snake \n",
    "    def move(self):\n",
    "        for seg_num in range(len(self.segments) -1,0,-1): #\n",
    "            new_x = self.segments[seg_num - 1 ].xcor() # changes to the new position \n",
    "            new_y = self.segments[seg_num -1 ].ycor()\n",
    "            self.segments[seg_num].goto(new_x,new_y) \n",
    "        self.head.forward(MOVE_DISTANCE)\n",
    "\n",
    "\n",
    "    def up(self):\n",
    "        if self.head.heading() != DOWN:  # Prevent moving directly down\n",
    "            self.head.setheading(UP)\n",
    "\n",
    "\n",
    "    def down(self):\n",
    "        if self.head.heading() != UP:  # Prevent moving directly up\n",
    "            self.head.setheading(DOWN)\n",
    "\n",
    "\n",
    "    def left(self):\n",
    "        if self.head.heading() != RIGHT:  # Prevent moving directly right\n",
    "            self.head.setheading(LEFT)\n",
    "\n",
    "\n",
    "    def right(self):\n",
    "        if self.head.heading() != LEFT:  # Prevent moving directly left\n",
    "            self.head.setheading(RIGHT)\n",
    "\n",
    "\n",
    "\n",
    "screen = Screen()\n",
    "screen.setup(width=600, height=600)  # Set window size to 600x600 pixels\n",
    "screen.bgcolor(\"black\")  # Background color set to black\n",
    "screen.title(\"Snake Game\")  # Title of the game window\n",
    "screen.tracer(0)  # Turns off automatic updates to control when the screen updates\n",
    "\n",
    "snake = Snake() # create a snake \n",
    "\n",
    "screen.listen() # enables screen to listen to keyboard input \n",
    "screen.onkey(snake.up, \"Up\")  # Moves snake up when \"Up\" arrow key is pressed\n",
    "screen.onkey(snake.down, \"Down\")  # Moves snake down when \"Down\" arrow key is pressed\n",
    "screen.onkey(snake.left, \"Left\")  # Moves snake left when \"Left\" arrow key is pressed\n",
    "screen.onkey(snake.right, \"Right\")  # Moves snake right when \"Right\" arrow key is pressed\n",
    "\n",
    "game_is_on = True\n",
    "while game_is_on:\n",
    "    screen.update()  # Updates the screen manually\n",
    "    time.sleep(0.1)  # Slows down the game loop (snake moves every 0.1 seconds)\n",
    "    snake.move()  # Moves the snake forward \n",
    "\n",
    "screen.exitonclick() # exit on click "
   ]
  },
  {
   "cell_type": "code",
   "execution_count": null,
   "id": "75e111f5-6270-4902-a84c-3e3607a63d27",
   "metadata": {},
   "outputs": [],
   "source": []
  }
 ],
 "metadata": {
  "kernelspec": {
   "display_name": "Python 3 (ipykernel)",
   "language": "python",
   "name": "python3"
  },
  "language_info": {
   "codemirror_mode": {
    "name": "ipython",
    "version": 3
   },
   "file_extension": ".py",
   "mimetype": "text/x-python",
   "name": "python",
   "nbconvert_exporter": "python",
   "pygments_lexer": "ipython3",
   "version": "3.12.4"
  }
 },
 "nbformat": 4,
 "nbformat_minor": 5
}
